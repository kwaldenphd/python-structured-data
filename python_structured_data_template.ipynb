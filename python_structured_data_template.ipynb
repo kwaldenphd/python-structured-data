{
  "nbformat": 4,
  "nbformat_minor": 0,
  "metadata": {
    "colab": {
      "name": "python-structured-data-template",
      "provenance": [],
      "toc_visible": true,
      "authorship_tag": "ABX9TyM0qJL2qoN9lxDDu3F+pI9G",
      "include_colab_link": true
    },
    "kernelspec": {
      "name": "python3",
      "display_name": "Python 3"
    },
    "language_info": {
      "name": "python"
    }
  },
  "cells": [
    {
      "cell_type": "markdown",
      "metadata": {
        "id": "view-in-github",
        "colab_type": "text"
      },
      "source": [
        "<a href=\"https://colab.research.google.com/github/kwaldenphd/python-structured-data/blob/main/python_structured_data_template.ipynb\" target=\"_parent\"><img src=\"https://colab.research.google.com/assets/colab-badge.svg\" alt=\"Open In Colab\"/></a>"
      ]
    },
    {
      "cell_type": "markdown",
      "metadata": {
        "id": "tvuAYfxrNBbg"
      },
      "source": [
        "# Dictionaries and Sets in Python\n",
        "\n",
        "Student Name: **Enter Your Name Here (Double click to edit)**\n",
        "<br>\n",
        "Net ID: **Enter Your NetID Here (Double click to edit)**\n",
        "<br>"
      ]
    },
    {
      "cell_type": "markdown",
      "source": [
        "## Lab Notebook Questions"
      ],
      "metadata": {
        "id": "RrQ6B76LNI4K"
      }
    },
    {
      "cell_type": "markdown",
      "metadata": {
        "id": "tFpjBRZKNBby"
      },
      "source": [
        "### **Q1: Open the `example.xlsx` file in a text editor. Describe what you see.**"
      ]
    },
    {
      "cell_type": "markdown",
      "metadata": {
        "id": "ik0C6wzzNBb6"
      },
      "source": [
        "**AnswerQ1**: Your answer here (double click to edit)"
      ]
    },
    {
      "cell_type": "code",
      "execution_count": null,
      "metadata": {
        "id": "TY7nSyTCBldB"
      },
      "outputs": [],
      "source": [
        "# your codes here (if needed, double click to edit)"
      ]
    },
    {
      "cell_type": "markdown",
      "metadata": {
        "id": "ZDLFgm6l2Tcq"
      },
      "source": [
        "### **Q2: How does your answer to Q1 compare to what you see when you open the `example.csv` file in a text editor?**"
      ]
    },
    {
      "cell_type": "markdown",
      "metadata": {
        "id": "3KmSFVss2Tcx"
      },
      "source": [
        "**AnswerQ2**: Your answer here (double click to edit)"
      ]
    },
    {
      "cell_type": "code",
      "execution_count": null,
      "metadata": {
        "id": "sddEiN162Tc2"
      },
      "outputs": [],
      "source": [
        "# your codes here (if needed, double click to edit)"
      ]
    },
    {
      "cell_type": "markdown",
      "metadata": {
        "id": "QevNUret2TlO"
      },
      "source": [
        "### **Q3: Open the `example.xlsx` file in a spreadsheet program. What happens when you try to save the file as a `.csv` format? What happens when you open the newly-created `csv` file in a spreadsheet program or text editor?**"
      ]
    },
    {
      "cell_type": "markdown",
      "metadata": {
        "id": "Src-GLR-2TlR"
      },
      "source": [
        "**AnswerQ3**: Your answer here (double click to edit)"
      ]
    },
    {
      "cell_type": "code",
      "execution_count": null,
      "metadata": {
        "id": "kLEVbIYw2TlU"
      },
      "outputs": [],
      "source": [
        "# your codes here (if needed, double click to edit)"
      ]
    },
    {
      "cell_type": "markdown",
      "metadata": {
        "id": "f5HDxQ6H2TtY"
      },
      "source": [
        "### **Q4: Modify the code provided to load the `example.txt` file.**"
      ]
    },
    {
      "cell_type": "code",
      "source": [
        "# import csv module\n",
        "import csv\n",
        "\n",
        "# load tab-separated value file\n",
        "tsv_file = open(FILE NAME)\n",
        "\n",
        "# create a reader object and specify the new delimiter\n",
        "read_tsv = csv.reader(tsv_file, delimiter=SPECIFY DELIMITER HERE)\n",
        "\n",
        "# use a for loop to read in the data\n",
        "for row in read_tsv:\n",
        "  print(row)"
      ],
      "metadata": {
        "id": "uOIJBfEu2vXq"
      },
      "execution_count": null,
      "outputs": []
    },
    {
      "cell_type": "markdown",
      "metadata": {
        "id": "Kq-nVf_22Tta"
      },
      "source": [
        "**AnswerQ4**: Your answer here (double click to edit)"
      ]
    },
    {
      "cell_type": "code",
      "execution_count": null,
      "metadata": {
        "id": "-lrJEtSs2Ttb"
      },
      "outputs": [],
      "source": [
        "# your codes here (if needed, double click to edit)"
      ]
    },
    {
      "cell_type": "markdown",
      "metadata": {
        "id": "dIVITYtX2T0u"
      },
      "source": [
        "### **Q5: Define escape characters or quote characters in your own words. Describe a situation in which escape characters would be needed, and how you would address that challenge using Python syntax.**"
      ]
    },
    {
      "cell_type": "markdown",
      "metadata": {
        "id": "k1ljJcVA2T0w"
      },
      "source": [
        "**AnswerQ5**: Your answer here (double click to edit)"
      ]
    },
    {
      "cell_type": "code",
      "execution_count": null,
      "metadata": {
        "id": "Y9_fe7Yh2T0x"
      },
      "outputs": [],
      "source": [
        "# your codes here (if needed, double click to edit)"
      ]
    },
    {
      "cell_type": "markdown",
      "metadata": {
        "id": "TmRAKDRq2T8U"
      },
      "source": [
        "### **Q6: Describe in your own words how `csv_DictReader` interacts with structured data.**"
      ]
    },
    {
      "cell_type": "markdown",
      "metadata": {
        "id": "QatMmpm22T8U"
      },
      "source": [
        "**AnswerQ6**: Your answer here (double click to edit)"
      ]
    },
    {
      "cell_type": "code",
      "execution_count": null,
      "metadata": {
        "id": "BmFcjysm2T8V"
      },
      "outputs": [],
      "source": [
        "# your codes here (if needed, double click to edit)"
      ]
    },
    {
      "cell_type": "markdown",
      "metadata": {
        "id": "cD1IN8jU2UD3"
      },
      "source": [
        "### **Q7: Create a small data structure and write it to a CSV file. Include code + comments.**"
      ]
    },
    {
      "cell_type": "markdown",
      "metadata": {
        "id": "EAefVNyj2UD4"
      },
      "source": [
        "**AnswerQ7**: Your answer here (double click to edit)"
      ]
    },
    {
      "cell_type": "code",
      "execution_count": null,
      "metadata": {
        "id": "riL0BxjI2UD5"
      },
      "outputs": [],
      "source": [
        "# your codes here (if needed, double click to edit)"
      ]
    },
    {
      "cell_type": "markdown",
      "metadata": {
        "id": "9CDVKJ5L2ULv"
      },
      "source": [
        "### **Q8: Create a small dictionary and write it to a CSV file. Include code + comments.**"
      ]
    },
    {
      "cell_type": "markdown",
      "metadata": {
        "id": "7klOvdrw2ULw"
      },
      "source": [
        "**AnswerQ8**: Your answer here (double click to edit)"
      ]
    },
    {
      "cell_type": "code",
      "execution_count": null,
      "metadata": {
        "id": "pJsdMa2J2ULw"
      },
      "outputs": [],
      "source": [
        "# your codes here (if needed, double click to edit)"
      ]
    },
    {
      "cell_type": "markdown",
      "metadata": {
        "id": "g815TV2k2UTo"
      },
      "source": [
        "### <strong>Q9: Navigate to an open data portal and download a `.csv` file. \n",
        "\n",
        "A few places to start:\n",
        "- [Data.gov](https://www.data.gov/)\n",
        "- [City of Chicago Data Portal](https://data.cityofchicago.org/)\n",
        "- [City of South Bend Open Data](https://data-southbend.opendata.arcgis.com/)\n",
        "- [Sports Reference](https://www.sports-reference.com/)\n",
        "\n",
        "Open the data in a spreadsheet program and/or text editor. \n",
        "- What do you see?\n",
        "- How can we start to make sense of the data based on available documentation?</strong>"
      ]
    },
    {
      "cell_type": "markdown",
      "metadata": {
        "id": "b_vVyDUC2UTp"
      },
      "source": [
        "**AnswerQ9**: Your answer here (double click to edit)"
      ]
    },
    {
      "cell_type": "code",
      "execution_count": null,
      "metadata": {
        "id": "bfPGlCpD2UTp"
      },
      "outputs": [],
      "source": [
        "# your codes here (if needed, double click to edit)"
      ]
    },
    {
      "cell_type": "markdown",
      "metadata": {
        "id": "rfb35wJm2UbQ"
      },
      "source": [
        "### <strong>Q10: Write code + comments that load the data in Python using the two different approaches highlighted in this lab:\n",
        "- Lists and sublists (steps 51-60, or steps 61-69 for loading the file using a for loop)\n",
        "- Dictionaries (steps 92-98, and steps 99-100 cover how to deal with a file that does not include a header row)</strong>"
      ]
    },
    {
      "cell_type": "markdown",
      "metadata": {
        "id": "iy98wuTq2UbR"
      },
      "source": [
        "**AnswerQ10**: Your answer here (double click to edit)"
      ]
    },
    {
      "cell_type": "code",
      "execution_count": null,
      "metadata": {
        "id": "X0UIPsXE2UbR"
      },
      "outputs": [],
      "source": [
        "# your codes here (if needed, double click to edit)"
      ]
    },
    {
      "cell_type": "markdown",
      "metadata": {
        "id": "oju5Re_k2Uh5"
      },
      "source": [
        "### **Q11: What challenges did you encounter for Q9 and Q10? How did you address or solve them?**"
      ]
    },
    {
      "cell_type": "markdown",
      "metadata": {
        "id": "7YP791pY2Uh6"
      },
      "source": [
        "**AnswerQ11**: Your answer here (double click to edit)"
      ]
    },
    {
      "cell_type": "code",
      "execution_count": null,
      "metadata": {
        "id": "JSbnu15a2Uh7"
      },
      "outputs": [],
      "source": [
        "# your codes here (if needed, double click to edit)"
      ]
    },
    {
      "cell_type": "markdown",
      "metadata": {
        "id": "XgAT3yVH2Uo5"
      },
      "source": [
        "### **Q12: Decipher what we're seeing in the JSON here. What are some of the name/value pairs, and how are they organized in this data object?**"
      ]
    },
    {
      "cell_type": "markdown",
      "metadata": {
        "id": "T-iVjQgW2Uo7"
      },
      "source": [
        "**AnswerQ12**: Your answer here (double click to edit)"
      ]
    },
    {
      "cell_type": "code",
      "execution_count": null,
      "metadata": {
        "id": "DpACdpez2Uo8"
      },
      "outputs": [],
      "source": [
        "# your codes here (if needed, double click to edit)"
      ]
    },
    {
      "cell_type": "markdown",
      "metadata": {
        "id": "wyVzFVST2Uv5"
      },
      "source": [
        "### **Q13: Create a string of JSON data and write it to a JSON file. Include code + comments.**"
      ]
    },
    {
      "cell_type": "markdown",
      "metadata": {
        "id": "Fr3SY2pM2Uv6"
      },
      "source": [
        "**AnswerQ13**: Your answer here (double click to edit)"
      ]
    },
    {
      "cell_type": "code",
      "execution_count": null,
      "metadata": {
        "id": "p9MYvVln2Uv8"
      },
      "outputs": [],
      "source": [
        "# your codes here (if needed, double click to edit)"
      ]
    },
    {
      "cell_type": "markdown",
      "metadata": {
        "id": "ih8CF3lq2U3Q"
      },
      "source": [
        "### <strong>Q14: Navigate to an open data portal and download a JSON file. \n",
        "\n",
        "Some options that can get you started:\n",
        "- [Data.gov](https://www.data.gov/)\n",
        "- [City of Chicago Data Portal](https://data.cityofchicago.org/)\n",
        "- [City of South Bend Open Data](https://data-southbend.opendata.arcgis.com/)\n",
        "\n",
        "Open the data in a spreadsheet program and/or text editor \n",
        "- What do you see?\n",
        "- How can we start to make sense of the data based on available documentation?</strong>"
      ]
    },
    {
      "cell_type": "markdown",
      "metadata": {
        "id": "ZUSe-Q1h2U3S"
      },
      "source": [
        "**AnswerQ14**: Your answer here (double click to edit)"
      ]
    },
    {
      "cell_type": "code",
      "execution_count": null,
      "metadata": {
        "id": "o2x_fmcG2U3T"
      },
      "outputs": [],
      "source": [
        "# your codes here (if needed, double click to edit)"
      ]
    },
    {
      "cell_type": "markdown",
      "metadata": {
        "id": "pPjgDA1C2U-P"
      },
      "source": [
        "### <strong>Q15: Write code + comments that accomplish the following tasks:\n",
        "- Load the JSON data into Python\n",
        "- Convert to a Python value\n",
        "\n",
        "The lab procedure provides sample code and additional considerations for loading a JSON file in Python.\n",
        "\n",
        "- In the JSON example in the lab, we loaded a single string of JSON, which means we use the `json.loads()` function. \n",
        "- When loading a JSON file (or file-like object), we would need to use the `json.load()` argument.</strong>"
      ]
    },
    {
      "cell_type": "markdown",
      "metadata": {
        "id": "kXgQA7aq2U-Q"
      },
      "source": [
        "**AnswerQ15**: Your answer here (double click to edit)"
      ]
    },
    {
      "cell_type": "code",
      "execution_count": null,
      "metadata": {
        "id": "Dn4MIOsP2U-R"
      },
      "outputs": [],
      "source": [
        "# your codes here (if needed, double click to edit)"
      ]
    },
    {
      "cell_type": "markdown",
      "metadata": {
        "id": "I2LLr4NI2VFX"
      },
      "source": [
        "### **Q16: What challenges did you encounter for Q14 and Q15? How did you address or solve them?**"
      ]
    },
    {
      "cell_type": "markdown",
      "metadata": {
        "id": "-jSlY76m2VFY"
      },
      "source": [
        "**AnswerQ16**: Your answer here (double click to edit)"
      ]
    },
    {
      "cell_type": "code",
      "execution_count": null,
      "metadata": {
        "id": "zloDd19F2VFZ"
      },
      "outputs": [],
      "source": [
        "# your codes here (if needed, double click to edit)"
      ]
    }
  ]
}