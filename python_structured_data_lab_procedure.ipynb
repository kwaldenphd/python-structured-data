{
  "nbformat": 4,
  "nbformat_minor": 0,
  "metadata": {
    "colab": {
      "provenance": [],
      "toc_visible": true,
      "authorship_tag": "ABX9TyOZNuLAxJf3ZeOBm/Eo9X9b",
      "include_colab_link": true
    },
    "kernelspec": {
      "name": "python3",
      "display_name": "Python 3"
    },
    "language_info": {
      "name": "python"
    }
  },
  "cells": [
    {
      "cell_type": "markdown",
      "metadata": {
        "id": "view-in-github",
        "colab_type": "text"
      },
      "source": [
        "<a href=\"https://colab.research.google.com/github/kwaldenphd/python-structured-data/blob/main/python_structured_data_lab_procedure.ipynb\" target=\"_parent\"><img src=\"https://colab.research.google.com/assets/colab-badge.svg\" alt=\"Open In Colab\"/></a>"
      ]
    },
    {
      "cell_type": "markdown",
      "source": [
        "# Structured Data & File I/O in Python\n",
        "\n",
        "<a href=\"http://creativecommons.org/licenses/by-nc/4.0/\" rel=\"license\"><img style=\"border-width: 0;\" src=\"https://i.creativecommons.org/l/by-nc/4.0/88x31.png\" alt=\"Creative Commons License\" /></a>This tutorial was written by Katherine Walden and is licensed under a <a href=\"http://creativecommons.org/licenses/by-nc/4.0/\" rel=\"license\">Creative Commons Attribution-NonCommercial 4.0 International License</a>.\n"
      ],
      "metadata": {
        "id": "UfKrmequSFVv"
      }
    },
    {
      "cell_type": "markdown",
      "source": [
        "## Lab Overview & Goals\n",
        "\n",
        "This lab provides an overview of fundamental programming concepts in the areas of file I/O and working with structured data, with a focus on Python syntax. Topics covered include:\n",
        "- Delimited (`.csv`, `.tsv`) and name-value (`.json`, `.xml`) data structures\n",
        "- Escape characters in relation to delimited data structures\n",
        "- Working with delimited and name-value data structures in the Python programming environment, with a focus on the `csv` + `json` modules and `list` + `dictionary` data structures\n",
        "- File I/O and file methods/access modes, with a focus on Python workflows"
      ],
      "metadata": {
        "id": "tuVwZ-DNSGT0"
      }
    },
    {
      "cell_type": "markdown",
      "source": [
        "\n",
        "## Acknowledgements\n",
        "\n",
        "Peer review and editing on the CSV portion of this lab was provided by Spring 2021 graduate teaching assistant [Aidan Draper](https://github.com/adraper2).\n",
        "\n",
        "Peer review and editing on the JSON portion of this lab was provided by Spring 2021 graduate teaching assistant [Subhadyuti Sahoo](https://github.com/SDSAHOO703).\n",
        "\n",
        "When building this lab, the author consulted the following materials:\n",
        "- Al Sweigart [*Automate the Boring Stuff With Python*](https://nostarch.com/automatestuff2) (No Starch Press, 2020).\n",
        "  * Chapter 16 \"Working With CSV Files and JSON Data\" (371-388)\n",
        "- Wes McKinney, \"Chapter 6.1, Reading and Writing Data in Text Format\" in [*Python for Data Analysis*](https://www.oreilly.com/library/view/python-for-data/9781491957653/) (O'Reilly, 2017): 169-184.\n",
        "- Wes McKinney, Chapter 6 \"Data Loading, Storage, and File Formats\" from [*Python for Data Analysis*](https://www.oreilly.com/library/view/python-for-data/9781491957653/) (O'Reilly, 2018): 169-193"
      ],
      "metadata": {
        "id": "-A8tK4pESHQx"
      }
    },
    {
      "cell_type": "markdown",
      "source": [
        "## Key Concepts\n",
        "\n",
        "[Click here](https://github.com/kwaldenphd/python-structured-data/blob/main/key-concepts.md) for a full list of key concepts and definitions from this lab."
      ],
      "metadata": {
        "id": "YM6xX5lJSJHp"
      }
    },
    {
      "cell_type": "markdown",
      "source": [
        "## Lab Notebook Template\n",
        "\n",
        "[Click here](https://colab.research.google.com/drive/1w6rrEM6I69TIdm-WpSDrEMgMC26bTzdj?usp=sharing) to access the lab notebook template as a Jupyter Notebook"
      ],
      "metadata": {
        "id": "42ZyUxuDSKyT"
      }
    },
    {
      "cell_type": "markdown",
      "source": [
        "## Data\n",
        "\n",
        "You'll need four data files for this lab.\n",
        "- `example.csv`\n",
        "- `example.txt`\n",
        "- `example.xlsx`\n",
        "- `exampleWithHeader.csv`\n",
        "\n",
        "You can also access them [via Google Drive](https://drive.google.com/drive/folders/1Sp_N34753ONJRU2AFKcocQ2DhCEhyL-m?usp=sharing) (ND users only)."
      ],
      "metadata": {
        "id": "gP9gFxV8SUsd"
      }
    },
    {
      "cell_type": "markdown",
      "source": [
        "# Overview\n",
        "\n",
        "In programming languages and computing more broadly, `I/O` stands for `Input` and `Output`. \n",
        "\n",
        "We've seen `I/O` at work in previous labs, where we provided inputs to the computer (using a CPU simulator or working at the terminal), a task or operation was performed, and there was an endpoint or output for that process. A concrete example would be the assembly language program we wrote for Lab #2: How Comptuters Work (Hardware). We wrote assembly language instructions which served as inputs for the fetch-execute cycle, and the final output for the program was a data value stored in main memory.\n",
        "\n",
        "Similarly, programming languages can take a variety of inputs (user-provided values, data, files, etc) and return outputs in a variety of formats (data stored in memory, output that shows up in the console, newly-created or -modified files, etc). We've seen `I/O` in action in previous labs, with Python's `print()` and `input()` functions.\n",
        "\n",
        "In this lab, we're going to look at aspects of `I/O` that have to do with reading and writing files, with a focus on two key data structures:\n",
        "- Tabular data, or data stored as a table consisting of rows and columns\n",
        "- Data stored as name-value pairs, specifically in the JavaScript Object Notation (`.json`) format\n"
      ],
      "metadata": {
        "id": "hVxW0cCgSXBY"
      }
    },
    {
      "cell_type": "markdown",
      "source": [
        "# File I/O & Access Modes\n",
        "\n",
        "Before we start loading data files in Python, let's talk more about how programming languages handle creating, reading, and writing files.\n",
        "\n",
        "From Busbee and Braunschweig's \"[File Input and Output](https://press.rebus.community/programmingfundamentals/chapter/file-input-and-output/),\" in *Programming Fundamentals*:\n",
        "\n",
        "<blockquote>\"A computer file is a computer resource for recording data discretely in a computer storage device. Just as words can be written to paper, so can information be written to a computer file. \n",
        "<br><br>\n",
        "\"There are different types of computer files, designed for different purposes. A file may be designed to store a picture, a written message, a video, a computer program, or a wide variety of other kinds of data. Some types of files can store several types of information at once.\n",
        "<br><br>\n",
        "\"By using computer programs, a person can open, read, change, and close a computer file. Computer files may be reopened, modified, and copied an arbitrary number of times.\"</blockquote>\n",
        "\n",
        "To break that down:\n",
        "- Files store information\n",
        "- Files have different formats or types\n",
        "- Core file tasks (when working in a programming environment): `open`, `read`, `modify` or `change`, `close`\n",
        "\n",
        "We will be focusing on a few key Python functions for working with files.\n",
        "- `open()`\n",
        "- `read()`\n",
        "- `write()`"
      ],
      "metadata": {
        "id": "i2GjAKW-SZez"
      }
    },
    {
      "cell_type": "markdown",
      "source": [
        "### `open()`\n",
        "\n",
        "The `open()` function lets us open an existing file or create a new file in Python. For either version of `open()` (new file or existing file), we need to specify the file name (with the file type extension) and access mode.\n",
        "\n",
        "Core syntax for opening an existing file:\n",
        "\n",
        "```Python\n",
        "open(file_name.extension, access_mode)\n",
        "```\n",
        "\n",
        "The file type extension is the string of characters that follows the period after the file name. Examples include `.py`, `.csv`, `.txt`, etc. The types of file handling functions we are covering in this lab will generally only support reading and writing plain-text (or machine-readable) files."
      ],
      "metadata": {
        "id": "VIFqrT6vSlPg"
      }
    },
    {
      "cell_type": "markdown",
      "source": [
        "### Access Modes\n",
        "\n",
        "The access mode parameter specifies the types of modifications that can be made to the file. It can also specify the type of data or information contained in the file.\n",
        "\n",
        "Possible access mode parameters:\n",
        "\n",
        "<table>\n",
        " <tr>\n",
        "  <th>Parameter</th>\n",
        "  <th>Name</th>\n",
        "  <th>Description</th>\n",
        " </tr>\n",
        " <tr>\n",
        "  <td><code>\"r\"</code></td>\n",
        "  <td>Read</td>\n",
        "  <td>Opens a file for reading; also the default value</td>\n",
        " </tr>\n",
        " <tr>\n",
        "  <td><code>\"a\"</code></td>\n",
        "  <td>Append</td>\n",
        "  <td>Opens the file for appending new or additional information; Creates the file if it does not already exist</td>\n",
        " </tr>\n",
        " <tr>\n",
        "  <td><code>\"w\"</code></td>\n",
        "  <td>Write</td>\n",
        "  <td>Opens the file for writing new information; Creates the file if it does not already exist</td>\n",
        " </tr>\n",
        " <tr>\n",
        "  <td><code>\"x\"</code></td>\n",
        "  <td>Create</td>\n",
        "  <td>Creates the file if it does not already exist</td>\n",
        " </tr>\n",
        " </table>\n",
        "\n",
        "Additionally, we can specify the type of data contained in the file, or how Python should handle the information in the file.\n",
        "\n",
        "<table>\n",
        " <tr>\n",
        "  <th>Parameter</th>\n",
        "  <th>Name</th>\n",
        "  <th>Description</th>\n",
        " </tr>\n",
        " <tr>\n",
        "  <td><code>\"t\"</code></td>\n",
        "  <td>Text</td>\n",
        "  <td>Treats file as text data; also the default value</td>\n",
        " </tr>\n",
        " <tr>\n",
        "  <td><code>\"b\"</code></td>\n",
        "  <td>Binary</td>\n",
        "  <td>Treats the file as binary data</td>\n",
        " </tr>\n",
        " </table>"
      ],
      "metadata": {
        "id": "z6jr5Br9SndB"
      }
    },
    {
      "cell_type": "markdown",
      "source": [
        "#### `open()` examples"
      ],
      "metadata": {
        "id": "b1ciVrhWSoNb"
      }
    },
    {
      "cell_type": "code",
      "source": [
        " # opens an existing text (TXT) file with overwrite permission\n",
        " f = open(\"existing_file.txt\", \"w\")"
      ],
      "metadata": {
        "id": "rLdLLmTFSpLw"
      },
      "execution_count": null,
      "outputs": []
    },
    {
      "cell_type": "code",
      "source": [
        " # opens an existing CSV file and reads the content\n",
        " f = open(\"existing_file.csv\", \"r\")"
      ],
      "metadata": {
        "id": "SWJik2xCSqC-"
      },
      "execution_count": null,
      "outputs": []
    },
    {
      "cell_type": "code",
      "source": [
        " # creates new txt file with write permission\n",
        " f = open(\"new_file.txt\", \"w\")"
      ],
      "metadata": {
        "id": "8DAbG18DSq_E"
      },
      "execution_count": null,
      "outputs": []
    },
    {
      "cell_type": "code",
      "source": [
        " # creates new CSV file without write privileges\n",
        " f = open(\"new_file.csv\", \"x\")"
      ],
      "metadata": {
        "id": "TwQRTOPbSr6L"
      },
      "execution_count": null,
      "outputs": []
    },
    {
      "cell_type": "markdown",
      "source": [
        "If you run these examples, you will see a newly-created file appear in your environment or project workspace. \n",
        "\n",
        "### `write()`\n",
        "\n",
        "Now that we have a newly-created file in Python, we can use the `write()` function to ***write*** content to that file. Let's say we want to create a `.txt` (plain text) file and write a string to that file. We can do that using `write()`.\n",
        "\n",
        "An example:"
      ],
      "metadata": {
        "id": "PBz82KMBStaF"
      }
    },
    {
      "cell_type": "code",
      "source": [
        "# creates new txt file with write permission\n",
        "f = open(\"new_file.txt\", \"w\")\n",
        "\n",
        "# writes string to new file\n",
        "f.write(\"Hello world!\")\n",
        "\n",
        "# closes file\n",
        "f.close()"
      ],
      "metadata": {
        "id": "RdJo0fcBSuaj"
      },
      "execution_count": null,
      "outputs": []
    },
    {
      "cell_type": "markdown",
      "source": [
        "<blockquote>NOTE: It is <strong><em>very important</em></strong> to <code>close()</code> the file once you are done writing content or making modifications.</blockquote>\n",
        "\n",
        "Another example where we have assigned a string to a variable and write the variable to the `.txt` file:"
      ],
      "metadata": {
        "id": "Pd5Yv8hoSvll"
      }
    },
    {
      "cell_type": "code",
      "source": [
        "# creates new txt file with write permission\n",
        "f = open(\"new_file.txt\", \"w\")\n",
        "\n",
        "# assigns string to variable\n",
        "hello_world = \"Hello world!\"\n",
        "\n",
        "# writes string variable to new file\n",
        "f.write(hello_world)\n",
        "\n",
        "# closes file\n",
        "f.close()"
      ],
      "metadata": {
        "id": "t2SJzuzKSw2w"
      },
      "execution_count": null,
      "outputs": []
    },
    {
      "cell_type": "markdown",
      "source": [
        "We can open the `new_file.txt` file to see the newly-added content.\n",
        "\n",
        "For more on file handling methods in Python:\n",
        "- [Python File Handling, W3Schools](https://www.w3schools.com/python/python_file_handling.asp)\n",
        "- [Python File Write, W3Schools](https://www.w3schools.com/python/python_file_write.asp)\n",
        "- [Python open() Function](https://www.w3schools.com/python/ref_func_open.asp)\n",
        "\n",
        "## Comprehension Check\n",
        "\n",
        "<table>\n",
        " <tr><td>\n",
        "<img src=\"https://github.com/kwaldenphd/internet/blob/main/images/clipboard.png?raw=true\" alt=\"Clipboard icon\" width=\"50\"/></td>\n",
        "  <td><a href=\"https://docs.google.com/forms/d/e/1FAIpQLSettmkYgldWFwWb7taUc2aRVD7r5wHRwz_G9bQOE9KC8SgeiA/viewform?usp=sf_link\">File I/O in Python Comprehension Check</a></td>\n",
        "  </tr>\n",
        "  </table>\n"
      ],
      "metadata": {
        "id": "aHRhUIbQSyKi"
      }
    },
    {
      "cell_type": "markdown",
      "source": [
        "# Structured Data\n",
        "\n",
        "<table>\n",
        "<tr><td><p align=\"center\"><img src=\"https://github.com/kwaldenphd/python-structured-data/blob/main/images/One_Dimensional_Array.jpg?raw=true\" width=\"500\"></p></td><td><p align=\"center\"><img src=\"https://github.com/kwaldenphd/python-structured-data/blob/main/images/Associative_Arrays.png?raw=true\" width=\"500\"></p></td></tr>\n",
        "\t<tr><td align=\"center\">Linear Array</td><td align=\"center\">Associative Array</td></tr></table>\n",
        "\n",
        "In this lab, we're going to look at aspects of `I/O` that have to do with reading and writing files, with a focus on two key data structures:\n",
        "- Tabular data, or data stored as a table consisting of rows and columns\n",
        "- Data stored as name-value pairs, specifically in the JavaScript Object Notation (`.json`) format\n",
        "\n",
        "We can connect these two types of data structures back to the concepts of linear and associative arrays covered previously in the course. A quick refresher:\n",
        "- \"In computer science, an array is a data structure consisting of a collection of elements (values or variables), each identified by at least one array index or key...The simplest type of data structure is a linear array, also called one-dimensional array\" ([Wikipedia, \"Array (data structure)](https://en.wikipedia.org/wiki/Array_(data_structure))\")\n",
        "- Associative arrays are \"an abstract data type that stores a collection of (key, value) pairs, such that each possible key appears at most once in the collection\" ([Wikpedia, Associative Array](https://en.wikipedia.org/wiki/Associative_array))"
      ],
      "metadata": {
        "id": "OE_f-6r3Sz6_"
      }
    },
    {
      "cell_type": "markdown",
      "source": [
        "## Delimited Data\n",
        "\n",
        "<p align=\"center\"><img src=\"https://github.com/kwaldenphd/python-structured-data/blob/main/images/table_diagram.png?raw=true\" width=\"1000\"></p>\n",
        "\n",
        "\"A delimited file is a sequential file with column delimiters. Each delimited file is a stream of records, which consists of fields that are ordered by column. Each record contains fields for one row. Within each row, individual fields are separated by column delimiters. All fields must be delimited character strings, non-delimited character strings, or external numeric values. Delimited character strings can contain column delimiters and can also contain character string delimiters when two successive character string delimiters are used to represent one character.\" (IBM, \"[Delimited File Format](https://www.ibm.com/docs/en/db2-for-zos/11?topic=utilities-delimited-file-format)\", 5 February 2022)\n",
        "\n",
        "One of the most common examples of a delimited data structure is a table, with file formats you may open using spreadsheet programs like Microsoft Excel, Google Sheets, or Apple Numbers. However, the file formats associated with spreadsheet programs (`.xlsx` for Microsoft Excel and `.numbers` for Numbers) are NOT plain-text formats. Try to open these file types in a text editor and you'll quickly see the additional content and markup added by the spreadsheet program.\n",
        "\n",
        "For this lab, we'll be working with the `.csv` file type. CSV stands for \"comma-separated values.\" CSV files are tabular data structures (i.e. a spreadsheet), stored in a plain-text format. In `.csv` files, each line represents a row in the spreadsheet, and commas separate cells in each row (thus the file format name comma-separated values). At first glance, `.csv` files look similar to proprietary spreadsheet program file formats, such as files saved in Microsoft Excel or Apple Numbers. \n",
        "\n",
        "A few characteristics that distinguish `.csv` files (or other plain-text delimited data formats) from proprietary spreadsheet file types:\n",
        "- Columns in a `.csv` file don't have a value type. Everything is a string.\n",
        "- Values in a `.csv` file don't have font or color formatting\n",
        "- `.csv` files only contain single worksheets\n",
        "- `.csv` files don't store formatting information like cell width/height\n",
        "- `.csv` files don't recognize merged cells or other kinds of special formatting (frozen or hidden rows/columns, embedded images, etc.)\n",
        "\n",
        "Given these limitations, especially compared to the way we often interact with spreadsheet programs like Microsoft Excel or Google Sheets, what's the advantage of working with `.csv` files? One key advantage of `.csv` files is their simplicity. You can load or open a `.csv` file in a text editor and be able to quickly see the values in the file. When working with data in a programming environment, `.csv` files as a plain-text format simplify the process of loading structured data."
      ],
      "metadata": {
        "id": "gKJs3zckS2dn"
      }
    },
    {
      "cell_type": "markdown",
      "source": [
        "### Application\n",
        "\n",
        "Q1A: Open the `example.xlsx` file in a text editor. Describe what you see.\n",
        "\n",
        "Q1B: How does your answer to Q1A compare to what you see when you open the `example.csv` file in a text editor?\n",
        "\n",
        "Q1C: Open the `example.xlsx` file in a spreadsheet program. Save the file as a `.csv` format. What happens? Or what happens when you open the newly-created `.csv` file in a spreadsheet program or text editor?"
      ],
      "metadata": {
        "id": "DpCqsor0S3gv"
      }
    },
    {
      "cell_type": "markdown",
      "source": [
        "### `.csv` Files in Python\n",
        "\n",
        "To recap: `CSV` stands for comma-separated values, and `CSV` files are the plain-text, machine-readable file type for tabular data (table data, or data in a spreadsheet structure)\n",
        "\n",
        "For example, a table that looks like this in a spreadsheet program like Excel or Google Sheets:\n",
        "\n",
        "<table>\n",
        " <tr>\n",
        "  <th>Parameter</th>\n",
        "  <th>Name</th>\n",
        "  <th>Description</th>\n",
        " </tr>\n",
        " <tr>\n",
        "  <td><code>\"t\"</code></td>\n",
        "  <td>Text</td>\n",
        "  <td>Treats file as text data; also the default value</td>\n",
        " </tr>\n",
        " <tr>\n",
        "  <td><code>\"b\"</code></td>\n",
        "  <td>Binary</td>\n",
        "  <td>Treats the file as binary data</td>\n",
        " </tr>\n",
        " </table>\n",
        "\n",
        "Would look like this as a `.csv`:\n",
        "\n",
        "```CSV\n",
        "Parameter, Name, Description\n",
        "\"t\", Text, Treats file as text data; also the default value\n",
        "\"b\", Binary, Treats the file as binary data\n",
        "```\n",
        "\n",
        "So when writing data to a `.csv` file, we need Python to understand the row structure and comma-separated syntax for the file type. Specifically, we need Python to understand we are writing individual rows of data to the file, and we need Python to understand that those rows consist of columns of data separated by columns.\n",
        "\n",
        "Thankfully, Python has a built-in [`CSV` module](https://docs.python.org/3/library/csv.html) with specialized functions designed to help with writing `CSV` files. We can import the module using an `import` statement a the start of our program.\n"
      ],
      "metadata": {
        "id": "cjA2TzcyS5Wd"
      }
    },
    {
      "cell_type": "code",
      "source": [
        "import csv"
      ],
      "metadata": {
        "id": "7z1R_6WcS6Fe"
      },
      "execution_count": null,
      "outputs": []
    },
    {
      "cell_type": "markdown",
      "source": [
        "<blockquote>Remember Python includes modules, packages, and libraries we can import and use in our programs. A module is a Python file that typically includes specialized functions and variables. Modules typically have <code>.py</code> file extensions. A single or simple directory of modules is called a package. Packages are typically a simple directory with multiple modules.</blockquote>\n",
        "\n",
        "#### `open` & `write`\n",
        "\n",
        "We can create a file using the `open()` function covered in a previous section of the lab."
      ],
      "metadata": {
        "id": "SRA_vSs0S7W9"
      }
    },
    {
      "cell_type": "code",
      "source": [
        " # create new CSV file with write privileges\n",
        " f = open(\"new_file.csv\", \"w\")"
      ],
      "metadata": {
        "id": "R45xSRKnS8Sv"
      },
      "execution_count": null,
      "outputs": []
    },
    {
      "cell_type": "markdown",
      "source": [
        "The next step is to create the `writer` object using the `writer()` function from the `csv` module."
      ],
      "metadata": {
        "id": "G7jPrbYZS9ZD"
      }
    },
    {
      "cell_type": "code",
      "source": [
        "# create writer object\n",
        "outputWriter = csv.writer(f)"
      ],
      "metadata": {
        "id": "S2BhEoXuS-aM"
      },
      "execution_count": null,
      "outputs": []
    },
    {
      "cell_type": "markdown",
      "source": [
        "Next, we can use the `.writerow()` method to write individual lists as rows in our `.csv` file."
      ],
      "metadata": {
        "id": "_temKBz-S_SM"
      }
    },
    {
      "cell_type": "code",
      "source": [
        "# write first row\n",
        "outputWriter.writerow(['Parameter', 'Name', 'Description')]\n",
        "\n",
        "# write second row\n",
        "outputWriter.writerow(['t', 'Text', 'Treats file as text data; also the default value'])\n",
        "\n",
        "# write third row\n",
        "outputWriter.writerow(['b', 'Binary', 'Treats the file as binary data')]"
      ],
      "metadata": {
        "id": "lypLaa05TAeu"
      },
      "execution_count": null,
      "outputs": []
    },
    {
      "cell_type": "markdown",
      "source": [
        "After we have finished writing new rows of data, we can close the file using the `close()` function."
      ],
      "metadata": {
        "id": "h-PuqgD9TBP2"
      }
    },
    {
      "cell_type": "code",
      "source": [
        "f.close()"
      ],
      "metadata": {
        "id": "leH9jEOOTCIc"
      },
      "execution_count": null,
      "outputs": []
    },
    {
      "cell_type": "markdown",
      "source": [
        "Putting that all together:"
      ],
      "metadata": {
        "id": "BnnU0cqPTC4A"
      }
    },
    {
      "cell_type": "code",
      "source": [
        "# create new CSV file with write privileges\n",
        " f = open(\"new_file.csv\", \"w\")\n",
        " \n",
        " # create writer object\n",
        "outputWriter = csv.writer(f)\n",
        "\n",
        "# write first row\n",
        "outputWriter.writerow(['Parameter', 'Name', 'Description')]\n",
        "\n",
        "# write second row\n",
        "outputWriter.writerow(['t', 'Text', 'Treats file as text data; also the default value'])\n",
        "\n",
        "# write third row\n",
        "outputWriter.writerow(['b', 'Binary', 'Treats the file as binary data')]\n",
        "\n",
        "# close file\n",
        "f.close()"
      ],
      "metadata": {
        "id": "fwNfaLEeTEiI"
      },
      "execution_count": null,
      "outputs": []
    },
    {
      "cell_type": "markdown",
      "source": [
        "Check out `new_file.csv` to see the newly-created file with rows of data.\n",
        "\n",
        "#### `read`\n",
        "\n",
        "We'll also use the `csv` module to read or load an existing `.csv` file into Python. The `csv` module allows us to create a `reader` object that iterates over lines in a `.csv` file.\n",
        "\n",
        "What does this workflow look like? "
      ],
      "metadata": {
        "id": "Zit8ffZgTGHE"
      }
    },
    {
      "cell_type": "code",
      "source": [
        "# import csv module\n",
        "import csv\n",
        "\n",
        "# open csv file\n",
        "exampleFile = open('example.csv')\n",
        "\n",
        "# create reader object from lines of data in example.csv file using csv.reader function\n",
        "exampleReader = csv.reader(exampleFile)\n",
        "\n",
        "# create list with rows of data from example.csv file\n",
        "exampleData = list(exampleReader)\n",
        "\n",
        "# output list rows\n",
        "print(exampleData)"
      ],
      "metadata": {
        "id": "IPEp9tMHTHFV"
      },
      "execution_count": null,
      "outputs": []
    },
    {
      "cell_type": "markdown",
      "source": [
        "You'll notice that the `exampleData` output is a list of lists, or a list that contains sub-lists. Each row of data from the original `example.csv` file is a sub-list (with field values separated by commas) within the `exampleData` list.\n",
        "\n",
        "Now we can access the value at a particular row and column using the expression `exampleData[row][col]`.\n",
        "- `row` is the index position of one of the lists in `exampleData`. \n",
        "- `col` is the index position of the item located in that list.\n",
        "\n",
        "For example, `exampleData[0][0]` would give us the first string from the first list. `exampleData[0][1]` would give us the second string from the first list.\n",
        "\n",
        "##### Reading `.csv` data using a `for` loop\n",
        "\n",
        "The method we just used to read data from a `.csv` file into Python loads the entire file into memory at once. If we use this method on a large `.csv` file, Python is going to try to load the entire file into memory at once. Which does not bode well for Python or your computer's performance. We can use a `reader` object as part of a `for` loop to iterate through the lines in a `.csv` file and load the file line-by-line.\n",
        "\n",
        "<blockquote>Remember <code>for</code> loops iterate through each item in a series or list of items and performs the content of the loop on each item.</blockquote>\n",
        "\n",
        "What does this workflow look like?"
      ],
      "metadata": {
        "id": "g9lEixJXTJU6"
      }
    },
    {
      "cell_type": "code",
      "source": [
        "# import csv module\n",
        "import csv\n",
        "\n",
        "# open .csv file\n",
        "exampleFile = open('example.csv')\n",
        "\n",
        "# create reader object from .csv file\n",
        "exampleReader = csv.reader(exampleFile)\n",
        "\n",
        "# iterate through each row in .csv file and print out row content and number\n",
        "for row in exampleReader:\n",
        "  print('Row #' + str(exampleReader.line_num) + ' ' + str(row))"
      ],
      "metadata": {
        "id": "vQNVSYG0TKji"
      },
      "execution_count": null,
      "outputs": []
    },
    {
      "cell_type": "markdown",
      "source": [
        "This program imports the `csv` module, makes a `reader` object from the `example.csv` file, and loops through each of the rows in the `reader` object. Each row is a list of values, and each value represents a cell. \n",
        "- The `print()` function prints the current row number and that row's contents. \n",
        "- The `reader` object includes a `line_num` variable, which contains the number of the current line.\n",
        "\n",
        "<blockquote>NOTE: The <code>reader</code> object can only be looped over once. If you need to re-read the same <code>.csv</code> file, you'll use <code>csv.reader()</code> to create a new <code>reader</code> object.</blockquote>\n",
        "\n",
        "##### Reading `.csv` data as a `dictionary`\n",
        "\n",
        "For `.csv` files that contain header rows, we might want to connect the header row values with subsequent row values. We can do this by reading the `.csv` file as a dictionary, rather than a list containing row sub-lists. Remember dictionaries have key-value pairs, where we can access a value by using its key name. For tabular data, we can think of the key as the field name contained in the header row and the value as column or field values.\n",
        "\n",
        "We read a `.csv` file to a dictionary using a `DictReader` object (versus the `csv.reader` object)."
      ],
      "metadata": {
        "id": "FvGwVxRFTMir"
      }
    },
    {
      "cell_type": "code",
      "source": [
        "# import csv module\n",
        "import csv\n",
        "\n",
        "# open csv file\n",
        "exampleFile = open('exampleWithHeader.csv')\n",
        "\n",
        "# reading exampleFile to a DictReader object\n",
        "exampleDictReader = csv.DictReader(exampleFile)\n",
        "\n",
        "# outputs DictReader object as a dictionary\n",
        "for line in exampleDictReader:\n",
        "\tprint(line)"
      ],
      "metadata": {
        "id": "_km7J3HnTNv_"
      },
      "execution_count": null,
      "outputs": []
    },
    {
      "cell_type": "markdown",
      "source": [
        "Within the `for` loop, the `DictReader` object sets `row` to a dictionary object with keys derived from the headers in the first row. The `DictReader` object means we don't have to separate the header information from the rest of the data contained in the file, because the `DictReader` object does this for us.\n",
        "\n",
        "But what can we do if we want to read to a dictionary a `.csv` file that doesn't incldue a header row? We can pass a second argument to the `DictReader()` function to manually set header names.\n",
        " "
      ],
      "metadata": {
        "id": "i7AE-jJ6TPBO"
      }
    },
    {
      "cell_type": "code",
      "source": [
        "# import csv module\n",
        "import csv\n",
        "\n",
        "# open csv file\n",
        "exampleFile2 = open('example.csv')\n",
        "\n",
        "# reading exampleFile to a dictionary with added field names\n",
        "exampleDictReader2 = csv.DictReader(exampleFile, ['time', 'name', 'amount'])\n",
        "\n",
        "# set keys for key-value pairs\n",
        "for row in exampleDictReader2:\n",
        "  print(row)"
      ],
      "metadata": {
        "id": "3TJkv3bTTP6y"
      },
      "execution_count": null,
      "outputs": []
    },
    {
      "cell_type": "markdown",
      "source": [
        "#### `write`\n",
        "\n",
        "To write data to a `.csv` file in Python, we can create a `writer` object using the `csv.writer()` function to write data to a `.csv` file."
      ],
      "metadata": {
        "id": "xCPLtVnyTQ4w"
      }
    },
    {
      "cell_type": "code",
      "source": [
        "# import csv module\n",
        "import csv\n",
        "\n",
        "# create and open output.csv file in write mode\n",
        "outputFile = open('output.csv', 'w')\n",
        "\n",
        "# create writer object\n",
        "outputWriter = csv.writer(outputFile)\n",
        "\n",
        "# write first row\n",
        "outputWriter.writerow(['spam', 'eggs', 'bacon', 'ham'])\n",
        "\n",
        "# write another row\n",
        "outputWriter.writerow(['Hello, world!', 'eggs', 'bacon', 'ham'])\n",
        "\n",
        "# write a third row\n",
        "outputWriter.writerow([1, 2, 3.141592, 4])\n",
        "\n",
        "# close the output file\n",
        "outputFile.close()"
      ],
      "metadata": {
        "id": "vHkE2ttZTSAS"
      },
      "execution_count": null,
      "outputs": []
    },
    {
      "cell_type": "markdown",
      "source": [
        "The `writerow()` method takes a list argument and writes that to a new row in the `writer` object, that is added to the `.csv` file.\n",
        "\n",
        "##### Writing from a dictionary to a `.csv` file\n",
        "\n",
        "We can use a `DictWriter` object to write data in a dictionary to a `.csv` file."
      ],
      "metadata": {
        "id": "RefUMP6sTTOl"
      }
    },
    {
      "cell_type": "code",
      "source": [
        "# import csv module\n",
        "import csv\n",
        "\n",
        "# create and open output.csv file in write mode\n",
        "outputFile = open('output.csv', 'w')\n",
        "\n",
        "# create writer object\n",
        "outputDictWriter = csv.DictWriter(outputFile, ['Name', 'Pet', 'Phone'])\n",
        "\n",
        "# create header row\n",
        "outputDictWriter.writeheader()\n",
        "\n",
        "# write first row\n",
        "outputDictWriter.writerow({'Name': 'Alice', 'Pet': 'cat', 'Phone': '555-1234'})\n",
        "\n",
        "# write another row\n",
        "outputDictWriter.writerow({'Name': 'Bob', 'Phone': '555-9999'})\n",
        "\n",
        "# write a third row\n",
        "outputDictWriter.writerow({'Phone': '555-5555', 'Name': 'Carol', 'Pet': 'dog'})\n",
        "\n",
        "# close the output file\n",
        "outputFile.close()"
      ],
      "metadata": {
        "id": "ENRAeHQYTVIQ"
      },
      "execution_count": null,
      "outputs": []
    },
    {
      "cell_type": "markdown",
      "source": [
        "Note that the order of the key-value pairs in the dictionaries created manually using `writerow()` doesn't matter. Python writes the dictionaries to the `.csv` file using the order of the keys given to `DictWriter()`. Missing keys will be empty in the newly-created `.csv` file.\n",
        "\n",
        "### Application\n",
        "\n",
        "Q2A: Create a small list data structure and write it to a CSV file. Answer to this question includes program + comments that document process and explain your code.\n",
        "\n",
        "Q2B: Create a small dictionary and write it to a CSV file. Answer to this question includes program + comments that document process and explain your code.\n",
        "\n",
        "Q3A: Navigate to an open data portal and download a `.csv` file. \n",
        "\n",
        "A few places to start:\n",
        "- [Data.gov](https://www.data.gov/)\n",
        "- [City of Chicago Data Portal](https://data.cityofchicago.org/)\n",
        "- [City of South Bend Open Data](https://data-southbend.opendata.arcgis.com/)\n",
        "- [Sports Reference](https://www.sports-reference.com/)\n",
        "\n",
        "These open data portals are catalogs of datasets- you will need to explore the websites to identify and then download a specific dataset.\n",
        "\n",
        "Open the data in a spreadsheet program and/or text editor. \n",
        "- What do you see?\n",
        "- How can we start to make sense of the data based on available documentation?\n",
        "\n",
        "Q3B: Write two programs that load the data in Python using the two different approaches highlighted in this lab:\n",
        "- Lists and sublists\n",
        "- Dictionaries\n",
        "\n",
        "Answer to this question includes program + comments that document process and explain your code.\n",
        "\n",
        "Q3C: What challenges did you encounter? How did you address or solve them? "
      ],
      "metadata": {
        "id": "s1_ceJEkTUjs"
      }
    },
    {
      "cell_type": "markdown",
      "source": [
        "# Delimiters & Escape Characters"
      ],
      "metadata": {
        "id": "AHnSDKVCaYXq"
      }
    },
    {
      "cell_type": "markdown",
      "source": [
        "## Other delimiters\n",
        "\n",
        "What happens if you need to load in structured data that uses another delimiter, not a comma? Remember when we opened a `.csv` file in a plain-text editor, the value fields are separated by a comma.\n",
        "\n",
        "But commas are not the only possible delimiter. Tabs, spaces, pipes, or other characters can be used to separate or delimit fields in a dataset.\n",
        "\n",
        "<table>\n",
        "\t<tr>\n",
        "\t\t<td>Delimiter Name</td>\n",
        "\t\t<td>Symbol</td>\n",
        "\t\t<td>Python Expression</td>\n",
        "\t</tr>\n",
        "\t<tr>\n",
        "\t\t<td>Tab</td>\n",
        "\t\t<td><code>\\t</code></td>\n",
        "\t\t<td><code>delimiter = \"\\t\"</code></td>\n",
        "\t</tr>\n",
        "\t<tr>\n",
        "\t\t<td>Space</td>\n",
        "\t\t<td><code> </code></td>\n",
        "\t\t<td><code>delimiter = \" \"</code></td>\n",
        "\t</tr>\n",
        "\t<tr>\n",
        "\t\t<td>Pipe</td>\n",
        "\t\t<td><code>|</code></td>\n",
        "\t\t<td><code>delimiter = \"|\"</code></td>\n",
        "\t</tr>\n",
        "\t</table>\n",
        "\n",
        "The `csv` module includes a range of formatting parameters, known as a `Dialect` class. The `Dialect` class includes a range of methods you can use to specify alternate delimiters and (as we'll discover shortly), handle situations like special characters, line breaks, etc.\n",
        "\n",
        "The `delimiter` attribute in the `Dialect` class lets us specify what delimiter is being used in the data we want to load. An example we'll come back to in application questions for this section of the lab:"
      ],
      "metadata": {
        "id": "00ZhIqfSaZ9i"
      }
    },
    {
      "cell_type": "code",
      "source": [
        "# import csv module\n",
        "import csv\n",
        "\n",
        "# load tab-separated value file\n",
        "tsv_file = open(FILE NAME)\n",
        "\n",
        "# create a reader object and specify the new delimiter\n",
        "read_tsv = csv.reader(tsv_file, delimiter=SPECIFY DELIMITER HERE)\n",
        "\n",
        "# use a for loop to read in the data\n",
        "for row in read_tsv:\n",
        "  print(row)"
      ],
      "metadata": {
        "id": "OjyOKfJbab4f"
      },
      "execution_count": null,
      "outputs": []
    },
    {
      "cell_type": "markdown",
      "source": [
        "## Escape Characters \n",
        "\n",
        "But what happens if the values in your dataset include the same character that's being used as a delimiter? For example, let's say you have address data in the following structure:\n",
        "\n",
        "Name | Age | Address\n",
        "--- | --- | ---\n",
        "Jerry | 10 | 2776 McDowell Street, Nashville, Tennessee\n",
        "Tom | 20 | 3171 Jessie Street, Westerville, Ohio\n",
        "Mike | 30 | 1818 Sherman Street, Hope, Kansas\n",
        "\n",
        "In this example, we want to keep `Address` as an intact field and not separate based on the commas located within the address. In order to do this, we need to specify how the programming language parses fields that include the delimiter character.\n",
        "\n",
        "In Python, the `quotechar` attribute in the `Dialect` class specifies what character will be used to enclose fields that should be treated as distinct entities and not be split into columns or fields based on the presence of the delimiter character within the field.\n",
        "\n",
        "The default for `quotechar` is `\"` (double quotation marks). So what does that mean? We put double quotation marks around the field that includes the delimiter character.\n",
        "\n",
        "Modified data structure:\n",
        "\n",
        "Name | Age | Address\n",
        "--- | --- | ---\n",
        "Jerry | 10 | \"2776 McDowell Street, Nashville, Tennessee\"\n",
        "Tom | 20 | \"3171 Jessie Street, Westerville, Ohio\"\n",
        "Mike | 30 | \"1818 Sherman Street, Hope, Kansas\"\n",
        "\n",
        "Then we can read the modified data into Python using the workflows covered in previous sections of the lab.\n",
        "\n",
        "But what happens if we have quotation marks within a field that needs to be treated as a distinct entity? For example, the following data structure would run into problems when read into Python.\n",
        "\n",
        "Id | User | Comment\n",
        "--- | --- | ---\n",
        "1 | Bob | \"John said \"Hello World\"\"\n",
        "2 | Tom | \"\"The Magician\"\"\n",
        "3 | Harry | \"\"walk around the corner\" she explained to the child\"\n",
        "4 | Louis | \"He said, \"stop pulling the dog's tail\"\"\n",
        "\n",
        "See our problem? The `Comment` field is enclosed with double quotation marks but also includes quotation marks in the field. We need the programming language to understand the enclosing double quotation marks serve a different purpose than the double quotation marks contained within the `Comment` field.\n",
        "\n",
        "In Python, we can use a blackslash `\\` character to escape the embedded double quotes.\n",
        "\n",
        "Modified data structure:\n",
        "\n",
        "<table>\n",
        "\t<tr>\n",
        "\t\t<th>Id</th>\n",
        "\t\t<th>User</th>\n",
        "\t\t<th>Comment</th>\n",
        "\t</tr>\n",
        "\t<tr>\n",
        "\t\t<td>1</td>\n",
        "\t\t<td>Bob</td>\n",
        "\t\t<td>\"John said \\\"Hello World\\\"\"</td>\n",
        "\t</tr>\n",
        "\t<tr>\n",
        "\t\t<td>2</td>\n",
        "\t\t<td>Tom</td>\n",
        "\t\t<td>\"\\\"The Magician\\\"\"</td>\n",
        "\t</tr>\n",
        "\t<tr>\n",
        "\t\t<td>3</td>\n",
        "\t\t<td>Harry</td>\n",
        "\t\t<td>\"\\\"walk around the corner\\\" she explained to the child\"</td>\n",
        "\t</tr>\n",
        "\t<tr>\n",
        "\t\t<td>4</td>\n",
        "\t\t<td>Louis</td>\n",
        "\t\t<td>\"He said, \\\"stop pulling the dog's tail\\\"\"</td>\n",
        "\t</tr>\n",
        "\t</table>\n",
        "\n",
        "Since the default for `quotechar` is `\"`, we need to modify that default to reflect the new data structure."
      ],
      "metadata": {
        "id": "TBPH0_17TZ84"
      }
    },
    {
      "cell_type": "code",
      "source": [
        "# import csv module\n",
        "import csv\n",
        "\n",
        "# read csv using quote quotechar\n",
        "# NOTE: This is placeholder code- it will not run as written...unless you have a csv file with this name\n",
        "\n",
        "with open('MY-FILE-NAME.csv', 'rt') as f:\n",
        "  csv_reader = csv.reader(f, skipinitialspace=True, quotechar='\\\\')\n",
        "  \n",
        "  for line in csv_reader:\n",
        "    print(line)"
      ],
      "metadata": {
        "id": "OIoC-W23TbHd"
      },
      "execution_count": null,
      "outputs": []
    },
    {
      "cell_type": "markdown",
      "source": [
        "## Application\n",
        "\n",
        "Q4: Modify the code provided below to load the example.txt file provided in this lab. Answer to this question includes program + comments that document process and explain your code.\n"
      ],
      "metadata": {
        "id": "rCQa7-sqTfN-"
      }
    },
    {
      "cell_type": "code",
      "source": [
        "# import csv module\n",
        "import csv\n",
        "\n",
        "# load tab-separated value file\n",
        "tsv_file = open(FILE NAME)\n",
        "\n",
        "# create a reader object and specify the new delimiter\n",
        "read_tsv = csv.reader(tsv_file, delimiter=SPECIFY DELIMITER HERE)\n",
        "\n",
        "# use a for loop to read in the data\n",
        "for row in read_tsv:\n",
        "  print(row)"
      ],
      "metadata": {
        "id": "LMwHQfIEaPXj"
      },
      "execution_count": null,
      "outputs": []
    },
    {
      "cell_type": "markdown",
      "source": [
        "Q5: Describe the concept of escape characters or quote characters in your own words. Describe a situation in which escape characters would be needed, and how you would address that challenge using Python syntax."
      ],
      "metadata": {
        "id": "O65GjvTPaQRk"
      }
    },
    {
      "cell_type": "markdown",
      "source": [
        "# JavaScript Object Notation\n",
        "\n",
        "<p align=\"center\"><img src=\"https://github.com/kwaldenphd/python-structured-data/blob/main/images/JSONSample.jpg?raw=true\" width=\"500\"></p>\n",
        "\n",
        "JavaScript Object Notation (JSON) is as popular way to format data as a single (purportedly human-readable) string. JavaScript programs use JSON data structures, but we can frequently encounter JSON data outside of a JavaScript environment.\n",
        "\n",
        "Websites that make machine-readable data available via an application programming interface (API- more on these in an upcoming lab) often provide that data in a JSON format. Examples include Twitter, Wikipedia, Data.gov, etc. Most live data connections available via an API are provided in a JSON format.\n",
        "\n",
        "JSON structures can vary WIDELY depending on the specific data provider, but this lab will cover some basic elements of working with JSON in Python. The easiest way to think of JSON data as a plain-text data format made up of something like key-value pairs, like we've encountered previously in working with dictionaries (as a type of associative array).\n",
        "\n",
        "Example JSON string: `stringOfJsonData = '{\"name\": Zophie\", \"isCat\": true, \"miceCaught\": 0, \"felineIQ\": null}'`. From looking at the example string, we can see field names or keys (`name`, `isCat`, `miceCaught`, `felineIQ`) and values for those fields.\n",
        "\n",
        "To use more precise terminology, JSON data has the following attributes:\n",
        "- uses name/value pairs\n",
        "- separates data using commas\n",
        "- holds objects using curly braces `{}`\n",
        "- holds arrays using square brackets `[]`\n",
        "\n",
        "In our example `stringOfJsonData`, we have an object contained in curly braces. An object can include multiple name/value pairs. Multiple objects together can form an array.\n",
        "\n",
        "How is data stored in a JSON format different than a `.csv`? \n",
        "- A `.csv` file uses characters as delimiters and has more of a tabular (table-like) structure.\n",
        "- `.json` data uses characters as part of the syntax, but not in the same way as delimited data files. \n",
        "- The data stored in a JSON format has values that are attached to names (or keys).\n",
        "  * NOTE: We can mimic this structure somewhat by loading a `.csv` as a dictionary data structure\n",
        "- JSON can also have a hierarchical or nested structure, in that objects can be stored or nested inside other objects as part of the same array.\n",
        "\n",
        "For example, take a look at sample JSON data from Twitter's API:\n",
        "\n",
        "```JSON\n",
        "{\n",
        "  \"created_at\": \"Thu Apr 06 15:24:15 +0000 2017\",\n",
        "  \"id_str\": \"850006245121695744\",\n",
        "  \"text\": \"1\\/ Today we\\u2019re sharing our vision for the future of the Twitter API platform!\\nhttps:\\/\\/t.co\\/XweGngmxlP\",\n",
        "  \"user\": {\n",
        "    \"id\": 2244994945,\n",
        "    \"name\": \"Twitter Dev\",\n",
        "    \"screen_name\": \"TwitterDev\",\n",
        "    \"location\": \"Internet\",\n",
        "    \"url\": \"https:\\/\\/dev.twitter.com\\/\",\n",
        "    \"description\": \"Your official source for Twitter Platform news, updates & events. Need technical help? Visit https:\\/\\/twittercommunity.com\\/ \\u2328\\ufe0f #TapIntoTwitter\"\n",
        "  },\n",
        "  \"place\": {   \n",
        "  },\n",
        "  \"entities\": {\n",
        "    \"hashtags\": [      \n",
        "    ],\n",
        "    \"urls\": [\n",
        "      {\n",
        "        \"url\": \"https:\\/\\/t.co\\/XweGngmxlP\",\n",
        "        \"unwound\": {\n",
        "          \"url\": \"https:\\/\\/cards.twitter.com\\/cards\\/18ce53wgo4h\\/3xo1c\",\n",
        "          \"title\": \"Building the Future of the Twitter API Platform\"\n",
        "        }\n",
        "      }\n",
        "    ],\n",
        "    \"user_mentions\": [     \n",
        "    ]\n",
        "  }\n",
        "}\n",
        "```\n",
        "\n",
        "<blockquote>Q6: Decipher what we're seeing in the JSON here. What are some of the name/value pairs, and how are they organized in this object?</blockquote>"
      ],
      "metadata": {
        "id": "zNwi5CxGThMp"
      }
    },
    {
      "cell_type": "markdown",
      "source": [
        "## Reading JSON into Python\n",
        "\n",
        "We can read JSON into Python using the `json` module, which includes a few key functions for loading JSON data into Python:\n",
        "- `json.loads()` takes a single string of JSON and loads it as a Python value\n",
        "- `json.load()` takes a JSON file (or file-like object) and loads it as a Python value\n",
        "- `json.dumps()` takes a Python value and transforms it to a JSON object.\n",
        "\n",
        "<blockquote><a href=\"https://docs.python.org/3/library/json.html\">Click here</a> to learn more about the <code>json</code> module.</blockquote>\n",
        "\n",
        "Values stored in JSON format must be one of the following data types:\n",
        "- string\n",
        "- number\n",
        "- object (JSON object)\n",
        "- array\n",
        "- boolean\n",
        "- null\n",
        "\n",
        "Translation table for how Python's `json` module interprets or renders these data types:\n",
        "\n",
        "JSON | Python\n",
        "--- | ---\n",
        "object | dict\n",
        "array | list\n",
        "string | str\n",
        "number (int) | int\n",
        "number (real) | float\n",
        "true | True\n",
        "false | False\n",
        "null | None\n",
        "\n",
        "To translate a string of JSON data into a Python value, we pass it to the `loads()` function contained in the `json` module."
      ],
      "metadata": {
        "id": "j8-x4bRMTju3"
      }
    },
    {
      "cell_type": "code",
      "source": [
        "# import json module\n",
        "import json\n",
        "\n",
        "# string of JSON data\n",
        "stringOfJsonData = '{\"name\": \"Zophie\", \"isCat\": true, \"miceCaught\": 0, \"felineIQ\": null}'\n",
        "\n",
        "# load JSON data as Python value \n",
        "jsonDataAsPythonValue = json.loads(stringOfJsonData)\n",
        "\n",
        "# output JSON string as Python value\n",
        "jsonDataAsPythonValue"
      ],
      "metadata": {
        "id": "JS-uBZ9zTlDC"
      },
      "execution_count": null,
      "outputs": []
    },
    {
      "cell_type": "markdown",
      "source": [
        "This block of code imports the `json` module, calls the `loads()` function and passes a string of JSON data to the `loads()` function. A few notes on this workflow:\n",
        "- JSON strings always use double quotes, which is rendered in Python as a dictionary. Because Python dictionaries are not ordered, the order of the Python dictionary may not match the original JSON string order.\n",
        "- In this example, we are loading a single string of JSON, which means we use the `json.loads()` function. When loading a JSON file (or file-like object), we would need to use the `json.load()` argument.\n",
        "\n",
        "## Working with JSON in Python\n",
        "\n",
        "Now that the JSON data is stored as a dictionary in Python, we can interact with it via the functionality avaialble via Python dictionaries. We could get all of the keys in the dictionary using the `keys()` method.\n"
      ],
      "metadata": {
        "id": "flBMj-RTTmR9"
      }
    },
    {
      "cell_type": "code",
      "source": [
        "# import json module\n",
        "import json\n",
        "\n",
        "# string of JSON data\n",
        "stringOfJsonData = '{\"name\": \"Zophie\", \"isCat\": true, \"miceCaught\": 0, \"felineIQ\": null}'\n",
        "\n",
        "# load JSON data as Python value \n",
        "jsonDataAsPythonValue = json.loads(stringOfJsonData)\n",
        "\n",
        "# print list of keys\n",
        "print(jsonDataAsPythonValue.keys())"
      ],
      "metadata": {
        "id": "5yAtr_ADTnSX"
      },
      "execution_count": null,
      "outputs": []
    },
    {
      "cell_type": "markdown",
      "source": [
        "We could get all of the values in the dictionary using the `values()` method."
      ],
      "metadata": {
        "id": "jFB_l3CbToEO"
      }
    },
    {
      "cell_type": "code",
      "source": [
        "# import json module\n",
        "import json\n",
        "\n",
        "# string of JSON data\n",
        "stringOfJsonData = '{\"name\": \"Zophie\", \"isCat\": true, \"miceCaught\": 0, \"felineIQ\": null}'\n",
        "\n",
        "# load JSON data as Python value \n",
        "jsonDataAsPythonValue = json.loads(stringOfJsonData)\n",
        "\n",
        "# print list of values\n",
        "print(jsonDataAsPythonValue.values())"
      ],
      "metadata": {
        "id": "AFVZoyX6TpCg"
      },
      "execution_count": null,
      "outputs": []
    },
    {
      "cell_type": "markdown",
      "source": [
        "We could iterate by keys over the items in the dictionary."
      ],
      "metadata": {
        "id": "k_HdN3faTp10"
      }
    },
    {
      "cell_type": "code",
      "source": [
        "# import json module\n",
        "import json\n",
        "\n",
        "# string of JSON data\n",
        "stringOfJsonData = '{\"name\": \"Zophie\", \"isCat\": true, \"miceCaught\": 0, \"felineIQ\": null}'\n",
        "\n",
        "# load JSON data as Python value \n",
        "jsonDataAsPythonValue = json.loads(stringOfJsonData)\n",
        "\n",
        "# iterate by keys using for loop\n",
        "for key in jsonDataAsPythonValue.keys():\n",
        "  print(key, jsonDataAsPythonValue[key])"
      ],
      "metadata": {
        "id": "wJ5I4LgmTrIC"
      },
      "execution_count": null,
      "outputs": []
    },
    {
      "cell_type": "markdown",
      "source": [
        "We could also iterate over items in dictionary using key-value pairs."
      ],
      "metadata": {
        "id": "MZ8ogk6vTr3A"
      }
    },
    {
      "cell_type": "code",
      "source": [
        "# import json module\n",
        "import json\n",
        "\n",
        "# string of JSON data\n",
        "stringOfJsonData = '{\"name\": \"Zophie\", \"isCat\": true, \"miceCaught\": 0, \"felineIQ\": null}'\n",
        "\n",
        "# load JSON data as Python value \n",
        "jsonDataAsPythonValue = json.loads(stringOfJsonData)\n",
        "\n",
        "# iterate by key value pairs using for loop\n",
        "for key, value in jsonDataAsPythonValue.items():\n",
        "  print(key, value)"
      ],
      "metadata": {
        "id": "E8aJlbXjTsvL"
      },
      "execution_count": null,
      "outputs": []
    },
    {
      "cell_type": "markdown",
      "source": [
        "We can read the value for a particular key using the index operator. The command `jsonDataAsPythonValue['name']` will return `Zophie`. \n",
        "\n",
        "In situations where JSON data includes nested or hierarchical objects and arrays, we will end up with a list of dictionaries in Python. For example, let's say we have a different JSON example and want to use more complex expressions in Python."
      ],
      "metadata": {
        "id": "f0Z5BxOYTtzM"
      }
    },
    {
      "cell_type": "code",
      "source": [
        "# import json module\n",
        "import json\n",
        "\n",
        "# new json data\n",
        "data = '''\n",
        "[\n",
        "  { \"id\" : \"001\",\n",
        "    \"x\" : \"2\",\n",
        "    \"name\" : \"Chuck\"\n",
        "  } ,\n",
        "  { \"id\" : \"009\",\n",
        "    \"x\" : \"7\",\n",
        "    \"name\" : \"Brent\"\n",
        "  }\n",
        "]'''\n",
        "\n",
        "#load data as json\n",
        "info = json.loads(data)\n",
        "\n",
        "# print number of users\n",
        "print('User Count:', len(info))\n",
        "\n",
        "# use for loop to print list of names, IDs, and attributes\n",
        "for item in info:\n",
        "  print('Name', item['name'])\n",
        "  print('Id', item['id'])\n",
        "  print('Attribute', item['x'])"
      ],
      "metadata": {
        "id": "GYX1KMenTvqt"
      },
      "execution_count": null,
      "outputs": []
    },
    {
      "cell_type": "markdown",
      "source": [
        "In this example, we loaded a single string of JSON, which means we use the `loads()` function. When loading a JSON file (or file-like object), we would need to use the `load()` argument.\n",
        "\n",
        "For more on working with dictionaries in Python:\n",
        "- [Elements of Computing I lab](https://github.com/kwaldenphd/python-data-structures#dictionaries)\n",
        "- [W3 Schools tutorial](https://www.w3schools.com/python/python_dictionaries.asp)\n",
        "\n",
        "## Writing to JSON from Python\n",
        "\n",
        "The `json` module's `dumps()` function will translate a Python dictionary into a string of JSON-formatted data.\n"
      ],
      "metadata": {
        "id": "6kTyhmc2TxGC"
      }
    },
    {
      "cell_type": "code",
      "source": [
        "# import json module\n",
        "import json\n",
        "\n",
        "# Python dictionary\n",
        "pythonValue = {'isCat': True, 'miceCaught': 0, 'name': 'Zophie', 'felineIQ': None}\n",
        "\n",
        "# translate Python value to JSON string\n",
        "stringOfJsonData = json.dumps(pythonValue)\n",
        "\n",
        "stringOfJsonData"
      ],
      "metadata": {
        "id": "_HSMPb2ITy6b"
      },
      "execution_count": null,
      "outputs": []
    },
    {
      "cell_type": "markdown",
      "source": [
        "We can also write data in a Python dictionary to a JSON file also using `dump()`."
      ],
      "metadata": {
        "id": "PrzRcPKtTz9K"
      }
    },
    {
      "cell_type": "code",
      "source": [
        "# import json module\n",
        "import json\n",
        "\n",
        "# Python dictionary\n",
        "pythonValue = {'isCat': True, 'miceCaught': 0, 'name': 'Zophie', 'felineIQ': None}\n",
        "\n",
        "# create new JSON file and write dictionary to file\n",
        "with open('output.json', 'w') as json_file:\n",
        "\tjson.dump(pythonValue, json_file)"
      ],
      "metadata": {
        "id": "9UmZ5ssFT1sJ"
      },
      "execution_count": null,
      "outputs": []
    },
    {
      "cell_type": "markdown",
      "source": [
        "Later in the semester we will talk about how to read JSON data into Python and convert it to a tabular data structure (called a data frame in Python), using a library called `pandas`. Stay tuned!\n",
        "\n",
        "## Application\n",
        "\n",
        "Q7: Create a string of JSON data and write it to a JSON file. Answer to this question includes program + comments that document process and explain your code.\n",
        "\n",
        "Q8A: Navigate to an open data portal and download a JSON file. \n",
        "\n",
        "Some options that can get you started:\n",
        "- [Data.gov](https://www.data.gov/)\n",
        "- [City of Chicago Data Portal](https://data.cityofchicago.org/)\n",
        "- [City of South Bend Open Data](https://data-southbend.opendata.arcgis.com/)\n",
        "\n",
        "These open data portals are catalogs of datasets- you will need to explore the websites to identify and then download a specific dataset. Open the data in a spreadsheet program and/or text editor. Describe what are you seeing. How can we start to make sense of this data? What documentation is available?\n",
        "\n",
        "Q8B: Write programs that accomplish the following tasks:\n",
        "- Load the JSON data into Python\n",
        "- Convert to a Python value\n",
        "\n",
        "The previous sections of the lab procedure provide sample code and additional considerations for loading a JSON file in Python.\n",
        "- NOTE: In the JSON example in the lab, we loaded a single string of JSON, which means we use the `loads()` function. When loading a JSON file (or file-like object), we would need to use the `load()` argument.\n",
        "\n",
        "Answer to this question includes program + comments that document process and explain your code.\n",
        "\n",
        "Q8C: What challenges did you encounter? How did you address or solve them? "
      ],
      "metadata": {
        "id": "LqQn_RuxT35g"
      }
    },
    {
      "cell_type": "markdown",
      "source": [
        "# Lab Notebook Questions\n",
        "\n",
        "[Click here](https://colab.research.google.com/drive/1w6rrEM6I69TIdm-WpSDrEMgMC26bTzdj?usp=sharing) to access the lab notebook template as a Jupyter Notebook\n",
        "\n",
        "Q1A: Open the `example.xlsx` file in a text editor. Describe what you see.\n",
        "\n",
        "Q1B: How does your answer to Q1A compare to what you see when you open the `example.csv` file in a text editor?\n",
        "\n",
        "Q1C: Open the `example.xlsx` file in a spreadsheet program. Save the file as a `.csv` format. What happens? Or what happens when you open the newly-created `.csv` file in a spreadsheet program or text editor?\n",
        "\n",
        "Q2A: Create a small list data structure and write it to a CSV file. Answer to this question includes program + comments that document process and explain your code.\n",
        "\n",
        "Q2B: Create a small dictionary and write it to a CSV file. Answer to this question includes program + comments that document process and explain your code.\n",
        "\n",
        "Q3A: Navigate to an open data portal and download a `.csv` file. \n",
        "\n",
        "A few places to start:\n",
        "- [Data.gov](https://www.data.gov/)\n",
        "- [City of Chicago Data Portal](https://data.cityofchicago.org/)\n",
        "- [City of South Bend Open Data](https://data-southbend.opendata.arcgis.com/)\n",
        "- [Sports Reference](https://www.sports-reference.com/)\n",
        "\n",
        "These open data portals are catalogs of datasets- you will need to explore the websites to identify and then download a specific dataset.\n",
        "\n",
        "Open the data in a spreadsheet program and/or text editor. \n",
        "- What do you see?\n",
        "- How can we start to make sense of the data based on available documentation?\n",
        "\n",
        "Q3B: Write two programs that load the data in Python using the two different approaches highlighted in this lab:\n",
        "- Lists and sublists\n",
        "- Dictionaries\n",
        "\n",
        "Answer to this question includes program + comments that document process and explain your code.\n",
        "\n",
        "Q3C: What challenges did you encounter? How did you address or solve them?\n",
        "\n",
        "Q4: Modify the code provided below to load the example.txt file provided in this lab. Answer to this question includes program + comments that document process and explain your code."
      ],
      "metadata": {
        "id": "SEYXwrwdT5_S"
      }
    },
    {
      "cell_type": "code",
      "source": [
        "# import csv module\n",
        "import csv\n",
        "\n",
        "# load tab-separated value file\n",
        "tsv_file = open(FILE NAME)\n",
        "\n",
        "# create a reader object and specify the new delimiter\n",
        "read_tsv = csv.reader(tsv_file, delimiter=SPECIFY DELIMITER HERE)\n",
        "\n",
        "# use a for loop to read in the data\n",
        "for row in read_tsv:\n",
        "  print(row)"
      ],
      "metadata": {
        "id": "DKnGQ8weZ_zt"
      },
      "execution_count": null,
      "outputs": []
    },
    {
      "cell_type": "markdown",
      "source": [
        "Q5: Describe the concept of escape characters or quote characters in your own words. Describe a situation in which escape characters would be needed, and how you would address that challenge using Python syntax.\n",
        "\n",
        "Q6: Decipher what we're seeing in the JSON here. What are some of the name/value pairs, and how are they organized in this object?\n",
        "\n",
        "```JSON\n",
        "{\n",
        "  \"created_at\": \"Thu Apr 06 15:24:15 +0000 2017\",\n",
        "  \"id_str\": \"850006245121695744\",\n",
        "  \"text\": \"1\\/ Today we\\u2019re sharing our vision for the future of the Twitter API platform!\\nhttps:\\/\\/t.co\\/XweGngmxlP\",\n",
        "  \"user\": {\n",
        "    \"id\": 2244994945,\n",
        "    \"name\": \"Twitter Dev\",\n",
        "    \"screen_name\": \"TwitterDev\",\n",
        "    \"location\": \"Internet\",\n",
        "    \"url\": \"https:\\/\\/dev.twitter.com\\/\",\n",
        "    \"description\": \"Your official source for Twitter Platform news, updates & events. Need technical help? Visit https:\\/\\/twittercommunity.com\\/ \\u2328\\ufe0f #TapIntoTwitter\"\n",
        "  },\n",
        "  \"place\": {   \n",
        "  },\n",
        "  \"entities\": {\n",
        "    \"hashtags\": [      \n",
        "    ],\n",
        "    \"urls\": [\n",
        "      {\n",
        "        \"url\": \"https:\\/\\/t.co\\/XweGngmxlP\",\n",
        "        \"unwound\": {\n",
        "          \"url\": \"https:\\/\\/cards.twitter.com\\/cards\\/18ce53wgo4h\\/3xo1c\",\n",
        "          \"title\": \"Building the Future of the Twitter API Platform\"\n",
        "        }\n",
        "      }\n",
        "    ],\n",
        "    \"user_mentions\": [     \n",
        "    ]\n",
        "  }\n",
        "}\n",
        "```\n",
        "\n",
        "Q7: Create a string of JSON data and write it to a JSON file. Answer to this question includes program + comments that document process and explain your code.\n",
        "\n",
        "Q8A: Navigate to an open data portal and download a JSON file. \n",
        "\n",
        "Some options that can get you started:\n",
        "- [Data.gov](https://www.data.gov/)\n",
        "- [City of Chicago Data Portal](https://data.cityofchicago.org/)\n",
        "- [City of South Bend Open Data](https://data-southbend.opendata.arcgis.com/)\n",
        "\n",
        "These open data portals are catalogs of datasets- you will need to explore the websites to identify and then download a specific dataset. Open the data in a spreadsheet program and/or text editor. Describe what are you seeing. How can we start to make sense of this data? What documentation is available?\n",
        "\n",
        "Q8B: Write programs that accomplish the following tasks:\n",
        "- Load the JSON data into Python\n",
        "- Convert to a Python value\n",
        "\n",
        "The previous sections of the lab procedure provide sample code and additional considerations for loading a JSON file in Python.\n",
        "- NOTE: In the JSON example in the lab, we loaded a single string of JSON, which means we use the `loads()` function. When loading a JSON file (or file-like object), we would need to use the `load()` argument.\n",
        "\n",
        "Answer to this question includes program + comments that document process and explain your code.\n",
        "\n",
        "Q8C: What challenges did you encounter? How did you address or solve them? "
      ],
      "metadata": {
        "id": "nKQ6ByU7Z3yl"
      }
    }
  ]
}