{
  "cells": [
    {
      "cell_type": "markdown",
      "metadata": {
        "id": "view-in-github",
        "colab_type": "text"
      },
      "source": [
        "<a href=\"https://colab.research.google.com/github/kwaldenphd/python-structured-data/blob/main/python_structured_data_procedure.ipynb\" target=\"_parent\"><img src=\"https://colab.research.google.com/assets/colab-badge.svg\" alt=\"Open In Colab\"/></a>"
      ]
    },
    {
      "cell_type": "markdown",
      "source": [
        "# Working With Structured Data in Python\n",
        "\n",
        "<a href=\"http://creativecommons.org/licenses/by-nc/4.0/\" rel=\"license\"><img style=\"border-width: 0;\" src=\"https://i.creativecommons.org/l/by-nc/4.0/88x31.png\" alt=\"Creative Commons License\" /></a>\n",
        "This tutorial is licensed under a <a href=\"http://creativecommons.org/licenses/by-nc/4.0/\" rel=\"license\">Creative Commons Attribution-NonCommercial 4.0 International License</a>."
      ],
      "metadata": {
        "id": "fSUM71k9yvh8"
      }
    },
    {
      "cell_type": "markdown",
      "source": [
        "## Lab Goals\n",
        "\n",
        "This lab covers various methods for reading structured data into Python, focusing on `csv` and `json`. It covers other types of delimiters and escape characters. \n",
        "\n",
        "By the end of this lab, students will be able to:\n",
        "- Describe the structure and components of a .csv file\n",
        "- Understand how to approach other types of delimited files\n",
        "- Understand how to work with escape characters when loading structured data\n",
        "- Understand how Python dictionaries work as a type of structured data\n",
        "- Write data from Python to a .csv file\n",
        "- Read a .csv file into Python using the csv module and a for loop\n",
        "- Describe JSON data structure/components\n",
        "- Write data from Python to a JSON file\n",
        "- Read a JSON file into Python using the JSON module\n",
        "\n",
        "<table>\n",
        " <tr><td>\n",
        "<img src=\"https://elearn.southampton.ac.uk/wp-content/blogs.dir/sites/64/2021/04/PanPan.png\" alt=\"Panopto logo\" width=\"50\"/></td>\n",
        "  <td><a href=\"https://notredame.hosted.panopto.com/Panopto/Pages/Viewer.aspx?id=762d6791-024a-46bf-a5a1-add301722b86\">Lab overview</a></td>\n",
        "  </tr>\n",
        "  </table>\n",
        "  \n",
        "<table>\n",
        " <tr><td>\n",
        "<img src=\"https://elearn.southampton.ac.uk/wp-content/blogs.dir/sites/64/2021/04/PanPan.png\" alt=\"Panopto logo\" width=\"50\"/></td>\n",
        "<td><a href=\"https://notredame.hosted.panopto.com/Panopto/Pages/Viewer.aspx?pid=4c2b0eb8-f898-40be-ac96-add30171600e\">Lecture/live coding playlist</a></td>\n",
        "  </tr>\n",
        "  </table>"
      ],
      "metadata": {
        "id": "gT6wB-gY0o5k"
      }
    },
    {
      "cell_type": "markdown",
      "source": [
        "## Acknowledgements\n",
        "\n",
        "Peer review and editing on the CSV and XLSX portions of this lab was provided by Spring 2021 graduate teaching assistant [Aidan Draper](https://github.com/adraper2).\n",
        "\n",
        "Peer review and editing on the JSON and XML portions of this lab was provided by Spring 2021 graduate teaching assistant [Subhadyuti Sahoo](https://github.com/SDSAHOO703).\n",
        "\n",
        "Information and exercises in this lab are adapted from:\n",
        "- Al Sweigart [*Automate the Boring Stuff With Python*](https://nostarch.com/automatestuff2) (No Starch Press, 2020).\n",
        "  * Chapter 16 \"Working With CSV Files and JSON Data\" (371-388)\n",
        "- Wes McKinney, \"Chapter 6.1, Reading and Writing Data in Text Format\" in [*Python for Data Analysis*](https://www.oreilly.com/library/view/python-for-data/9781491957653/) (O'Reilly, 2017): 169-184.\n",
        "- Wes McKinney, Chapter 6 \"Data Loading, Storage, and File Formats\" from [*Python for Data Analysis*](https://www.oreilly.com/library/view/python-for-data/9781491957653/) (O'Reilly, 2018): 169-193\n"
      ],
      "metadata": {
        "id": "2bIzbuPn0p11"
      }
    },
    {
      "cell_type": "markdown",
      "source": [
        "# Lecture and Live Coding\n",
        "\n",
        "Throughout this lab, you will see a Panopto icon at the start of select sections.\n",
        "\n",
        "This icon indicates there is lecture/live coding asynchronous content that accompanies this section of the lab. \n",
        "\n",
        "You can click the link in the figure caption to access these materials (ND users only).\n",
        "\n",
        "Example:\n",
        "\n",
        "<table>\n",
        " <tr><td>\n",
        "<img src=\"https://elearn.southampton.ac.uk/wp-content/blogs.dir/sites/64/2021/04/PanPan.png\" alt=\"Panopto logo\" width=\"50\"/></td>\n",
        "  <td><a href=\"https://notredame.hosted.panopto.com/Panopto/Pages/Viewer.aspx?id=762d6791-024a-46bf-a5a1-add301722b86\">Lab overview</a></td>\n",
        "  </tr>\n",
        "  </table>\n",
        "  \n",
        "<table>\n",
        " <tr><td>\n",
        "<img src=\"https://elearn.southampton.ac.uk/wp-content/blogs.dir/sites/64/2021/04/PanPan.png\" alt=\"Panopto logo\" width=\"50\"/></td>\n",
        "<td><a href=\"https://notredame.hosted.panopto.com/Panopto/Pages/Viewer.aspx?pid=4c2b0eb8-f898-40be-ac96-add30171600e\">Lecture/live coding playlist</a></td>\n",
        "  </tr>\n",
        "  </table>"
      ],
      "metadata": {
        "id": "4Mi3HTJr0q7Q"
      }
    },
    {
      "cell_type": "markdown",
      "source": [
        "# Lab Notebook Template\n",
        "\n",
        "Lab notebook template:\n",
        "- [`.py` file](https://drive.google.com/file/d/1Dacp329cBMosmJvJcD10qSavgHpP3rYN/view?usp=sharing)\n",
        "- [Jupyter Notebook](https://colab.research.google.com/drive/1sL-GUG-NtBguee6NaYoazgPQmdKxmWpV?usp=sharing)\n"
      ],
      "metadata": {
        "id": "tBD3VOg20sfD"
      }
    },
    {
      "cell_type": "markdown",
      "source": [
        "# Data\n",
        "\n",
        "You'll need four data files for this lab.\n",
        "- `example.csv`\n",
        "- `example.txt`\n",
        "- `example.xlsx`\n",
        "- `exampleWithHeader.csv`\n",
        "\n",
        "These files are already loaded in the Replit project template for this lab.\n",
        "\n",
        "You can also access them [via Google Drive](https://drive.google.com/drive/folders/1Sp_N34753ONJRU2AFKcocQ2DhCEhyL-m?usp=sharing) (ND users only).\n"
      ],
      "metadata": {
        "id": "pSGGbT8A0tgi"
      }
    },
    {
      "cell_type": "markdown",
      "source": [
        "# `.csv` data in Python"
      ],
      "metadata": {
        "id": "PyarV3HT0uPT"
      }
    },
    {
      "cell_type": "markdown",
      "source": [
        "## What is a `.csv` file? \n",
        "\n",
        "<table>\n",
        " <tr><td>\n",
        "<img src=\"https://elearn.southampton.ac.uk/wp-content/blogs.dir/sites/64/2021/04/PanPan.png\" alt=\"Panopto logo\" width=\"50\"/></td>\n",
        "  <td><a href=\"https://notredame.hosted.panopto.com/Panopto/Pages/Viewer.aspx?id=0076f2aa-1167-4e86-8d1f-add3013f6d6d\">What is a CSV</a></td>\n",
        "  </tr>\n",
        "  </table>\n",
        "\n",
        "1. CSV stands for \"comma-separated values.\" CSV files are tabular data structures (i.e. a spreadsheet), stored in a plain-text format.\n",
        "\n",
        "2. Python includes a built-in `csv` module that allows us to read in data from a `.csv` file (or other type of delimited plain-text file), as well as write data to a `.csv` file.\n",
        "\n",
        "3. In `.csv` files, each line represents a row in the spreadsheet, and commas separate cells in each row (thus the file format name comma-separated values).\n",
        "\n",
        "4. At first glance, `.csv` files look similar to proprietary spreadsheet program file formats, such as files saved in Microsoft Excel or Apple Numbers. \n",
        "\n",
        "5. However, file formats like `.xls` or `.xlsx` (Microsoft Excel) or `.numbers` (Apple Numbers) are NOT plain-text formats. Try to open these file types in a text editor and you'll quickly see the additional content and markup added by the spreadsheet program. More on this later.\n",
        "\n",
        "6. A few characteristics that distinguish `.csv` files (or other plain-text structured data formats) from proprietary spreadsheet file types:\n",
        "- Columns in a `.csv` file don't have a value type. Everything is a string.\n",
        "- Values in a `.csv` file don't have font or color formatting\n",
        "- `.csv` files only contain single worksheets\n",
        "- `.csv` files don't store formatting information like cell width/height\n",
        "- `.csv` files don't recognize merged cells or other kinds of special formatting (frozen or hidden rows/columns, embedded images, etc.)\n",
        "\n",
        "7. Given these limitations, especially compared to the way we often interact with spreadsheet programs like Microsoft Excel or Google Sheets, what's the advantage of working with `.csv` files?\n",
        "\n",
        "8. One key advantage of `.csv` files is their simplicity. You can load or open a `.csv` file in a text editor and be able to quickly see the values in the file. \n",
        "\n",
        "9. When working with data in a programming environment, `.csv` files as a plain-text format simplify the process of loading structured data.\n",
        "\n",
        "<blockquote>Q1: Open the <code>example.xlsx</code> file in a text editor. Describe what you see.</blockquote>\n",
        "\n",
        "<blockquote>Q2: How does your answer to Q1 compare to what you see when you open the <code>example.csv</code> file in a text editor?</blockquote>\n",
        "\n",
        "<blockquote>Q3: Open the <code>example.xlsx</code> file in a spreadsheet program. Save the file as a <code>.csv</code> format. What happens? Or what happens when you open the newly-created <code>.csv</code> file in a spreadsheet program or text editor?</blockquote>"
      ],
      "metadata": {
        "id": "ECB-YYOw0vre"
      }
    },
    {
      "cell_type": "markdown",
      "source": [
        "## File Methods in Python\n",
        "\n",
        "10. Before we start loading data files in Python, let's talk more about how Python handles creating, reading, and writing files.\n",
        "\n",
        "11. Specifically, we will be focusing on a few key Python functions for working with files.\n",
        "- `open()`\n",
        "- `write()`\n",
        "\n",
        "<table>\n",
        " <tr><td>\n",
        "<img src=\"https://elearn.southampton.ac.uk/wp-content/blogs.dir/sites/64/2021/04/PanPan.png\" alt=\"Panopto logo\" width=\"50\"/></td>\n",
        "  <td><a href=\"https://notredame.hosted.panopto.com/Panopto/Pages/Viewer.aspx?id=19e7779b-344a-42d6-84c8-add30142fe8d\">File Methods: Open and Write</a></td>\n",
        "  </tr>\n",
        "  </table>"
      ],
      "metadata": {
        "id": "Cwg8fuD90wos"
      }
    },
    {
      "cell_type": "markdown",
      "source": [
        "### `open()`\n",
        "\n",
        "12. The `open()` function lets us open an existing file or create a new file in Python.\n",
        "\n",
        "13. For either version of `open()` (new file or existing file), we need to specify the file name (with the file type extension) and access mode.\n",
        "\n",
        "14. Core syntax for opening an existing file:"
      ],
      "metadata": {
        "id": "_e7hS9k80xq5"
      }
    },
    {
      "cell_type": "code",
      "source": [
        "open(file_name.extension, access_mode)\n"
      ],
      "metadata": {
        "id": "IRNDAN6G0yK8"
      },
      "execution_count": null,
      "outputs": []
    },
    {
      "cell_type": "markdown",
      "source": [
        "15. The file type extension is the string of characters that follows the period after the file name.\n",
        "\n",
        "16. Examples include `.py`, `.csv`, `.txt`, etc.\n",
        "\n",
        "17. The types of file handling functions we are covering in this lab will generally only support reading and writing plain-text (or machine-readable) files.\n",
        "\n",
        "### Access Modes\n",
        "\n",
        "18. The access mode parameter specifies the types of modifications that can be made to the file. It can also specify the type of data or information contained in the file.\n",
        "\n",
        "19. Possible access mode parameters:\n",
        "\n",
        "<table>\n",
        " <tr>\n",
        "  <th>Parameter</th>\n",
        "  <th>Name</th>\n",
        "  <th>Description</th>\n",
        " </tr>\n",
        " <tr>\n",
        "  <td><code>\"r\"</code></td>\n",
        "  <td>Read</td>\n",
        "  <td>Opens a file for reading; also the default value</td>\n",
        " </tr>\n",
        " <tr>\n",
        "  <td><code>\"a\"</code></td>\n",
        "  <td>Append</td>\n",
        "  <td>Opens the file for appending new or additional information; Creates the file if it does not already exist</td>\n",
        " </tr>\n",
        " <tr>\n",
        "  <td><code>\"w\"</code></td>\n",
        "  <td>Write</td>\n",
        "  <td>Opens the file for writing new information; Creates the file if it does not already exist</td>\n",
        " </tr>\n",
        " <tr>\n",
        "  <td><code>\"x\"</code></td>\n",
        "  <td>Create</td>\n",
        "  <td>Creates the file if it does not already exist</td>\n",
        " </tr>\n",
        " </table>\n",
        "\n",
        "20. Additionally, we can specify the type of data contained in the file, or how Python should handle the information in the file.\n",
        "\n",
        "<table>\n",
        " <tr>\n",
        "  <th>Parameter</th>\n",
        "  <th>Name</th>\n",
        "  <th>Description</th>\n",
        " </tr>\n",
        " <tr>\n",
        "  <td><code>\"t\"</code></td>\n",
        "  <td>Text</td>\n",
        "  <td>Treats file as text data; also the default value</td>\n",
        " </tr>\n",
        " <tr>\n",
        "  <td><code>\"b\"</code></td>\n",
        "  <td>Binary</td>\n",
        "  <td>Treats the file as binary data</td>\n",
        " </tr>\n",
        " </table>\n",
        " "
      ],
      "metadata": {
        "id": "HLFyCYdr00ZR"
      }
    },
    {
      "cell_type": "markdown",
      "source": [
        " #### `open()` examples"
      ],
      "metadata": {
        "id": "JSer5fmn02Bs"
      }
    },
    {
      "cell_type": "code",
      "source": [
        " # opens an existing text (TXT) file with overwrite permission\n",
        " f = open(\"existing_file.txt\", \"w\")"
      ],
      "metadata": {
        "id": "h7gXXf4_04CQ"
      },
      "execution_count": null,
      "outputs": []
    },
    {
      "cell_type": "code",
      "source": [
        " # opens an existing CSV file and reads the content\n",
        " f = open(\"existing_file.csv\", \"r\")"
      ],
      "metadata": {
        "id": "NO3J2Wtc041d"
      },
      "execution_count": null,
      "outputs": []
    },
    {
      "cell_type": "code",
      "source": [
        " # creates new txt file with write permission\n",
        " f = open(\"new_file.txt\", \"w\")"
      ],
      "metadata": {
        "id": "JDr1t_Wg05jP"
      },
      "execution_count": null,
      "outputs": []
    },
    {
      "cell_type": "code",
      "source": [
        " # creates new CSV file without write privileges\n",
        " f = open(\"new_file.csv\", \"x\")"
      ],
      "metadata": {
        "id": "fjvRnGdi06PC"
      },
      "execution_count": null,
      "outputs": []
    },
    {
      "cell_type": "markdown",
      "source": [
        "21. If you these examples, you will see a newly-created file appear in your environment or project workspace. \n",
        "\n",
        "### `write()`\n",
        "\n",
        "22. Now that we have a newly-created file in Python, we can use the `write()` function to ***write*** content to that file.\n",
        "\n",
        "23. Let's say we want to create a `.txt` (plain text) file and write a string to that file.\n",
        "\n",
        "24. We can do that using `write()`.\n",
        "\n",
        "25. An example:"
      ],
      "metadata": {
        "id": "TWszkBOx07Qg"
      }
    },
    {
      "cell_type": "code",
      "source": [
        "# creates new txt file with write permission\n",
        "f = open(\"new_file.txt\", \"w\")\n",
        "\n",
        "# writes string to new file\n",
        "f.write(\"Hello world!\")\n",
        "\n",
        "# closes file\n",
        "f.close()"
      ],
      "metadata": {
        "id": "FJqQ6cHy08IV"
      },
      "execution_count": null,
      "outputs": []
    },
    {
      "cell_type": "markdown",
      "source": [
        "26. NOTE: It is ***very important*** to `close()` the file once you are done writing content or making modifications.\n",
        "\n",
        "27. Another example where we have assigned a string to a variable and write the variable to the `.txt` file:"
      ],
      "metadata": {
        "id": "lV0OLoRA08-a"
      }
    },
    {
      "cell_type": "code",
      "source": [
        "# creates new txt file with write permission\n",
        "f = open(\"new_file.txt\", \"w\")\n",
        "\n",
        "# assigns string to variable\n",
        "hello_world = \"Hello world!\"\n",
        "\n",
        "# writes string variable to new file\n",
        "f.write(hello_world)\n",
        "\n",
        "# closes file\n",
        "f.close()"
      ],
      "metadata": {
        "id": "0OMglm9g0911"
      },
      "execution_count": null,
      "outputs": []
    },
    {
      "cell_type": "markdown",
      "source": [
        "28. Open the `new_file.txt` file to see the newly-added content.\n",
        "\n",
        "29. For more on file handling methods in Python:\n",
        "- [Python File Handling, W3Schools](https://www.w3schools.com/python/python_file_handling.asp)\n",
        "- [Python File Write, W3Schools](https://www.w3schools.com/python/python_file_write.asp)\n",
        "- [Python open() Function](https://www.w3schools.com/python/ref_func_open.asp)\n",
        "\n",
        "### `open()`, `write()`, and `CSV` files\n",
        "\n",
        "<table>\n",
        " <tr><td>\n",
        "<img src=\"https://elearn.southampton.ac.uk/wp-content/blogs.dir/sites/64/2021/04/PanPan.png\" alt=\"Panopto logo\" width=\"50\"/></td>\n",
        "  <td><a href=\"https://notredame.hosted.panopto.com/Panopto/Pages/Viewer.aspx?id=83ea18fa-8a66-49ad-a583-add30148f6d4\">File Methods: Open, Write, and CSV Files</a></td>\n",
        "  </tr>\n",
        "  </table>\n",
        "\n",
        "30. A couple quick reminders: `CSV` stands for comma-separated values, and `CSV` files are the plain-text, machine-readable file type for tabular data (table data, or data in a spreadsheet structure)\n",
        "\n",
        "31. For example, a table that looks like this in a spreadsheet program like Excel or Google Sheets:\n",
        "\n",
        "<table>\n",
        " <tr>\n",
        "  <th>Parameter</th>\n",
        "  <th>Name</th>\n",
        "  <th>Description</th>\n",
        " </tr>\n",
        " <tr>\n",
        "  <td><code>\"t\"</code></td>\n",
        "  <td>Text</td>\n",
        "  <td>Treats file as text data; also the default value</td>\n",
        " </tr>\n",
        " <tr>\n",
        "  <td><code>\"b\"</code></td>\n",
        "  <td>Binary</td>\n",
        "  <td>Treats the file as binary data</td>\n",
        " </tr>\n",
        " </table>\n",
        "\n",
        "32. Would look like this as a CSV:\n",
        "\n",
        "```CSV\n",
        "Parameter, Name, Description\n",
        "\"t\", Text, Treats file as text data; also the default value\n",
        "\"b\", Binary, Treats the file as binary data\n",
        "```\n",
        "\n",
        "33. So when writing data to a `CSV` file, we need Python to understand the row structure and comma-separated syntax for the file type.\n",
        "\n",
        "34. Specifically, we need Python to understand we are writing individual rows of data to the file, and we need Python to understand that those rows consist of columns of data separated by columns."
      ],
      "metadata": {
        "id": "Me5DLV_Q1AE_"
      }
    },
    {
      "cell_type": "markdown",
      "source": [
        "### The CSV Module\n",
        "\n",
        "35. Thankfully, Python has a built-in [`CSV` module](https://docs.python.org/3/library/csv.html) with specialized functions designed to help with writing `CSV` files."
      ],
      "metadata": {
        "id": "xeY6DDZV1BDZ"
      }
    },
    {
      "cell_type": "markdown",
      "source": [
        "#### A Quick Detour Into Packages, Modules, and Libraries\n",
        "\n",
        "36. We're now starting to encounter language like `package`, `module`, and `library` when working in Python.\n",
        "\n",
        "37. All of these terms refer to external Python programs that we can use in our program without having to recreate the entire original code.\n",
        "\n",
        "38. We can think of these resources as \"expansion packs\" for Python that expand or extend the programming language's built-in functionality.\n",
        "\n",
        "39. A few preliminary definitions...\n",
        "\n",
        "40. A ***module*** is a Python file that typically includes specialized functions and variables. \n",
        "- Modules typically have `.py` file extensions.\n",
        "\n",
        "41. A single or simple directory of modules is called a ***package***. \n",
        "- Packages are typically a simple directory with multiple modules.\n",
        "- They include an `__init__.py` file that provides additional details on how to initialize the package and access its modules.\n",
        "- Packages can also contain sub-packages\n",
        "\n",
        "42. A ***library*** includes blocks of code that can be reused within a program. Libraries are a collection of modules.\n",
        "- Libraries can include methods we call using period-method name (`.method_name()`)\n",
        "- They have a much more complex directory/sub-directory/etc structure than packages\n",
        "\n",
        "43. Some modules, packages, and libraries are built-in to Python and require no additional installation.\n",
        "\n",
        "44. Others have to be installed (typically at the command line, or in the terminal) before you can import and use them in a program.\n"
      ],
      "metadata": {
        "id": "OParDr9o1CKQ"
      }
    },
    {
      "cell_type": "markdown",
      "source": [
        "#### Back to the `CSV` Module\n",
        "\n",
        "45. We can create a file using the `open()` function covered in a previous section of the lab."
      ],
      "metadata": {
        "id": "RsziGvNP1DDz"
      }
    },
    {
      "cell_type": "code",
      "source": [
        " # create new CSV file with write privileges\n",
        " f = open(\"new_file.csv\", \"w\")"
      ],
      "metadata": {
        "id": "lmxfWR9G1Dsf"
      },
      "execution_count": null,
      "outputs": []
    },
    {
      "cell_type": "markdown",
      "source": [
        "46. The next step is to create the `writer` object using the `csv.writer()` function.\n"
      ],
      "metadata": {
        "id": "-0y5X4Rw1EVz"
      }
    },
    {
      "cell_type": "code",
      "source": [
        "# create writer object\n",
        "outputWriter = csv.writer(f)"
      ],
      "metadata": {
        "id": "4iokxd731E7o"
      },
      "execution_count": null,
      "outputs": []
    },
    {
      "cell_type": "markdown",
      "source": [
        "\n",
        "47. Next, we can use the `.writerow()` method to write individual lists as rows in our `CSV` file.\n"
      ],
      "metadata": {
        "id": "klvK7Pmc1FmN"
      }
    },
    {
      "cell_type": "code",
      "source": [
        "# write first row\n",
        "outputWriter.writerow(['Parameter', 'Name', 'Description')]\n",
        "\n",
        "# write second row\n",
        "outputWriter.writerow(['t', 'Text', 'Treats file as text data; also the default value'])\n",
        "\n",
        "# write third row\n",
        "outputWriter.writerow(['b', 'Binary', 'Treats the file as binary data')]"
      ],
      "metadata": {
        "id": "6jv8k0541GaT"
      },
      "execution_count": null,
      "outputs": []
    },
    {
      "cell_type": "markdown",
      "source": [
        "48. After we have finished writing new rows of data, we can close the file.\n"
      ],
      "metadata": {
        "id": "cdcHoKBH1Hc0"
      }
    },
    {
      "cell_type": "code",
      "source": [
        "f.close()"
      ],
      "metadata": {
        "id": "cmyLziPG1KgW"
      },
      "execution_count": null,
      "outputs": []
    },
    {
      "cell_type": "markdown",
      "source": [
        "49. Putting that all together:\n"
      ],
      "metadata": {
        "id": "adJag0tn1I0y"
      }
    },
    {
      "cell_type": "code",
      "source": [
        "# create new CSV file with write privileges\n",
        " f = open(\"new_file.csv\", \"w\")\n",
        " \n",
        " # create writer object\n",
        "outputWriter = csv.writer(f)\n",
        "\n",
        "# write first row\n",
        "outputWriter.writerow(['Parameter', 'Name', 'Description')]\n",
        "\n",
        "# write second row\n",
        "outputWriter.writerow(['t', 'Text', 'Treats file as text data; also the default value'])\n",
        "\n",
        "# write third row\n",
        "outputWriter.writerow(['b', 'Binary', 'Treats the file as binary data')]\n",
        "\n",
        "# close file\n",
        "f.close()"
      ],
      "metadata": {
        "id": "lFKnRUO71NWE"
      },
      "execution_count": null,
      "outputs": []
    },
    {
      "cell_type": "markdown",
      "source": [
        "50. Check out `new_file.csv` to see the newly-created file with rows of data.\n",
        "\n",
        "## Reading a `.csv` file into Python\n",
        "\n",
        "<table>\n",
        " <tr><td>\n",
        "<img src=\"https://elearn.southampton.ac.uk/wp-content/blogs.dir/sites/64/2021/04/PanPan.png\" alt=\"Panopto logo\" width=\"50\"/></td>\n",
        "  <td><a href=\"https://notredame.hosted.panopto.com/Panopto/Pages/Viewer.aspx?id=1bf35b7c-81c2-4e5e-a754-add3014d8c3c\">File Methods: Reading a CSV File Into Python</a></td>\n",
        "  </tr>\n",
        "  </table>\n",
        "\n",
        "51. To read data from a `.csv` file into Python, we will use the `csv` module.\n",
        "\n",
        "<blockquote>Check out <a href = \"https://docs.python.org/3/library/csv.html#module-csv\">Python's documentation</a> to learn more about the <code>csv</code> module.</blockquote>\n",
        "\n",
        "52. The `csv` module allows us to create a `reader` object that iterates over lines in a `.csv` file.\n",
        "\n",
        "53. What does this workflow look like? "
      ],
      "metadata": {
        "id": "eZp9uRSg1PeY"
      }
    },
    {
      "cell_type": "code",
      "source": [
        "# import csv module\n",
        "import csv\n",
        "\n",
        "# open csv file\n",
        "exampleFile = open('example.csv')\n",
        "\n",
        "# create reader object from lines of data in example.csv file using csv.reader function\n",
        "exampleReader = csv.reader(exampleFile)\n",
        "\n",
        "# create list with rows of data from example.csv file\n",
        "exampleData = list(exampleReader)\n",
        "\n",
        "# output list rows\n",
        "exampleData"
      ],
      "metadata": {
        "id": "lGqpIrIo1QZY"
      },
      "execution_count": null,
      "outputs": []
    },
    {
      "cell_type": "markdown",
      "source": [
        "54. You'll notice that the `exampleData` output is a list of lists, or a list that contains sub-lists. \n",
        "\n",
        "55. Each row of data from the original `example.csv` file is a sub-list (with field values separated by commas) within the `exampleData` list.\n",
        "\n",
        "56. Now we can access the value at a particular row and column using the expression `exampleData[row][col]`.\n",
        " \n",
        "57. `row` is the index position of one of the lists in `exampleData`. \n",
        "\n",
        "58. `col` is the index position of the item located in that list.\n",
        "\n",
        "59. For example, `exampleData[0][0]` would give us the first string from the first list. \n",
        "\n",
        "60. `exampleData[0][1]` would give us the second string from the first list.\n",
        "\n",
        "## Reading `.csv` data using a `for` loop\n",
        "\n",
        "61. The method we just used to read data from a `.csv` file into Python loads the entire file into memory at once.\n",
        "\n",
        "62. If we use this method on a large `.csv` file, Python is going to try to load the entire file into memory at once. Which does not bode well for Python or your computer's performance.\n",
        "\n",
        "63. We can use a `reader` object as part of a `for` loop to iterate through the lines in a `.csv` file and load the file line-by-line.\n",
        "\n",
        "<blockquote>Remember <code>for</code> loops iterate through each item in a series or list of items and performs the content of the loop on each item.</blockquote>\n",
        "\n",
        "64. What does this workflow look like?"
      ],
      "metadata": {
        "id": "EeziurwA1R0d"
      }
    },
    {
      "cell_type": "code",
      "source": [
        "# import csv module\n",
        "import csv\n",
        "\n",
        "# open .csv file\n",
        "exampleFile = open('example.csv')\n",
        "\n",
        "# create reader object from .csv file\n",
        "exampleReader = csv.reader(exampleFile)\n",
        "\n",
        "# iterate through each row in .csv file and print out row content and number\n",
        "for row in exampleReader:\n",
        "  print('Row #' + str(exampleReader.line_num) + ' ' + str(row))"
      ],
      "metadata": {
        "id": "vu0LCzMh1S_U"
      },
      "execution_count": null,
      "outputs": []
    },
    {
      "cell_type": "markdown",
      "source": [
        "65. This program imports the `csv` module, makes a `reader` object from the `example.csv` file, and loops through each of the rows in the `reader` object.\n",
        "\n",
        "66. Each row is a list of values, and each value represents a cell.\n",
        "\n",
        "67. The `print()` function prints the current row number and that row's contents. \n",
        "\n",
        "68. The `reader` object includes a `line_num` variable, which contains the number of the current line.\n",
        "\n",
        "69. NOTE: The `reader` object can only be looped over once. If you need to re-read the same `.csv` file, you'll use `csv.reader` to create a new `reader` object.\n",
        "\n",
        "## Other delimiters\n",
        "\n",
        "<table>\n",
        " <tr><td>\n",
        "<img src=\"https://elearn.southampton.ac.uk/wp-content/blogs.dir/sites/64/2021/04/PanPan.png\" alt=\"Panopto logo\" width=\"50\"/></td>\n",
        "  <td><a href=\"https://notredame.hosted.panopto.com/Panopto/Pages/Viewer.aspx?id=59159f47-4764-4422-b65b-add301517243\">Other Delimiters</a></td>\n",
        "  </tr>\n",
        "  </table>\n",
        "\n",
        "70. But what happens if you need to load in structured data that uses another delimiter, not a comma? \n",
        "\n",
        "71. Remember when we opened a `.csv` file in a plain-text editor, the value fields are separated by a comma.\n",
        "\n",
        "72. But commas are not the only possible delimiter. Tabs, spaces, pipes, or other characters can be used to separate or delimit fields in a dataset.\n",
        "\n",
        "<table>\n",
        "\t<tr>\n",
        "\t\t<td>Delimiter Name</td>\n",
        "\t\t<td>Symbol</td>\n",
        "\t\t<td>Python Expression</td>\n",
        "\t</tr>\n",
        "\t<tr>\n",
        "\t\t<td>Tab</td>\n",
        "\t\t<td><code>\\t</code></td>\n",
        "\t\t<td><code>delimiter = \"\\t\"</code></td>\n",
        "\t</tr>\n",
        "\t<tr>\n",
        "\t\t<td>Space</td>\n",
        "\t\t<td><code> </code></td>\n",
        "\t\t<td><code>delimiter = \" \"</code></td>\n",
        "\t</tr>\n",
        "\t<tr>\n",
        "\t\t<td>Pipe</td>\n",
        "\t\t<td><code>|</code></td>\n",
        "\t\t<td><code>delimiter = \"|\"</code></td>\n",
        "\t</tr>\n",
        "\t</table>\n",
        "\n",
        "73. The `csv` module includes a range of formatting parameters, known as a `Dialect` class. \n",
        "\n",
        "74. The `Dialect` class includes a range of methods you can use to specify alternate delimiters and (as we'll discover shortly), handle situations like special characters, line breaks, etc.\n",
        "\n",
        "75. The `delimiter` attribute in the `Dialect` class lets us specify what delimiter is being used in the data we want to load.\n"
      ],
      "metadata": {
        "id": "zl3MCj-j1U2o"
      }
    },
    {
      "cell_type": "code",
      "source": [
        "# import csv module\n",
        "import csv\n",
        "\n",
        "# load tab-separated value file\n",
        "tsv_file = open(FILE NAME)\n",
        "\n",
        "# create a reader object and specify the new delimiter\n",
        "read_tsv = csv.reader(tsv_file, delimiter=SPECIFY DELIMITER HERE)\n",
        "\n",
        "# use a for loop to read in the data\n",
        "for row in read_tsv:\n",
        "  print(row)"
      ],
      "metadata": {
        "id": "fCqPn7CA1WPN"
      },
      "execution_count": null,
      "outputs": []
    },
    {
      "cell_type": "markdown",
      "source": [
        "<blockquote>Q4: Modify the code provided above to load the example.txt file provided in this lab.</blockquote>\n",
        "\n",
        "## Escape characters\n",
        "\n",
        "<table>\n",
        " <tr><td>\n",
        "<img src=\"https://elearn.southampton.ac.uk/wp-content/blogs.dir/sites/64/2021/04/PanPan.png\" alt=\"Panopto logo\" width=\"50\"/></td>\n",
        "  <td><a href=\"https://notredame.hosted.panopto.com/Panopto/Pages/Viewer.aspx?id=59159f47-4764-4422-b65b-add301517243\">Escape Characters</a></td>\n",
        "  </tr>\n",
        "  </table>\n",
        "\n",
        "76. But what happens if the values in your dataset include the same character that's being used as a delimiter?\n",
        "\n",
        "77. For example, let's say you have address data in the following structure:\n",
        "\n",
        "Name | Age | Address\n",
        "--- | --- | ---\n",
        "Jerry | 10 | 2776 McDowell Street, Nashville, Tennessee\n",
        "Tom | 20 | 3171 Jessie Street, Westerville, Ohio\n",
        "Mike | 30 | 1818 Sherman Street, Hope, Kansas\n",
        "\n",
        "78. In this example, we want to keep `Address` as an intact field and not separate based on the commas located within the address.\n",
        "\n",
        "79. In order to do this, we need to specify how Python parses fields that include the delimiter character.\n",
        "\n",
        "80. The `quotechar` attribute in the `Dialect` class specifies what character will be used to enclose fields that should be treated as distinct entities and not be split into columns or fields based on the presence of the delimiter character within the field.\n",
        "\n",
        "81. The default for `quotechar` is `\"` (double quotation marks).\n",
        "\n",
        "82. So what does that mean? We put double quotation marks around the field that includes the delimiter character.\n",
        "\n",
        "83. Modified data structure:\n",
        "\n",
        "Name | Age | Address\n",
        "--- | --- | ---\n",
        "Jerry | 10 | \"2776 McDowell Street, Nashville, Tennessee\"\n",
        "Tom | 20 | \"3171 Jessie Street, Westerville, Ohio\"\n",
        "Mike | 30 | \"1818 Sherman Street, Hope, Kansas\"\n",
        "\n",
        "84. Then we can read the modified data into Python.\n",
        "\n",
        "85. But what happens if we have quotation marks within a field that needs to be treated as a distinct entity?\n",
        "\n",
        "86. For example, the following data structure would run into problems when read into Python.\n",
        "\n",
        "Id | User | Comment\n",
        "--- | --- | ---\n",
        "1 | Bob | \"John said \"Hello World\"\"\n",
        "2 | Tom | \"\"The Magician\"\"\n",
        "3 | Harry | \"\"walk around the corner\" she explained to the child\"\n",
        "4 | Louis | \"He said, \"stop pulling the dog's tail\"\"\n",
        "\n",
        "87. See our problem? The `Comment` field is enclosed with double quotation marks but also includes quotation marks in the field. \n",
        "\n",
        "88. We need Python to understand the enclosing double quotation marks serve a different purpose than the double quotation marks contained within the `Comment` field.\n",
        "\n",
        "89. We can use a blackslash `\\` character to escape the embedded double quotes.\n",
        "\n",
        "90. Modified data structure:\n",
        "\n",
        "<table>\n",
        "\t<tr>\n",
        "\t\t<th>Id</th>\n",
        "\t\t<th>User</th>\n",
        "\t\t<th>Comment</th>\n",
        "\t</tr>\n",
        "\t<tr>\n",
        "\t\t<td>1</td>\n",
        "\t\t<td>Bob</td>\n",
        "\t\t<td>\"John said \\\"Hello World\\\"\"</td>\n",
        "\t</tr>\n",
        "\t<tr>\n",
        "\t\t<td>2</td>\n",
        "\t\t<td>Tom</td>\n",
        "\t\t<td>\"\\\"The Magician\\\"\"</td>\n",
        "\t</tr>\n",
        "\t<tr>\n",
        "\t\t<td>3</td>\n",
        "\t\t<td>Harry</td>\n",
        "\t\t<td>\"\\\"walk around the corner\\\" she explained to the child\"</td>\n",
        "\t</tr>\n",
        "\t<tr>\n",
        "\t\t<td>4</td>\n",
        "\t\t<td>Louis</td>\n",
        "\t\t<td>\"He said, \\\"stop pulling the dog's tail\\\"\"</td>\n",
        "\t</tr>\n",
        "\t</table>\n",
        "\n",
        "91. Since the default for `quotechar` is `\"`, we need to modify that default to reflect the new data structure."
      ],
      "metadata": {
        "id": "jhSNilOT1YLH"
      }
    },
    {
      "cell_type": "code",
      "source": [
        "# import csv module\n",
        "import csv\n",
        "\n",
        "# read csv using quote quotechar\n",
        "# NOTE: This is placeholder code- it will not run as written...unless you have a csv file with this name\n",
        "\n",
        "with open('MY-FILE-NAME.csv', 'rt') as f:\n",
        "  csv_reader = csv.reader(f, skipinitialspace=True, quotechar='\\\\')\n",
        "  \n",
        "  for line in csv_reader:\n",
        "    print(line)"
      ],
      "metadata": {
        "id": "j-5MIElQ1ZY1"
      },
      "execution_count": null,
      "outputs": []
    },
    {
      "cell_type": "markdown",
      "source": [
        "<blockquote>Q5: Describe the concept of escape characters or quote characters in your own words. Describe a situation in which escape characters would be needed, and how you would address that challenge using Python syntax.</blockquote>\n",
        "  \n",
        "# Reading in `.csv` files using dictionaries\n",
        "\n",
        "<table>\n",
        " <tr><td>\n",
        "<img src=\"https://elearn.southampton.ac.uk/wp-content/blogs.dir/sites/64/2021/04/PanPan.png\" alt=\"Panopto logo\" width=\"50\"/></td>\n",
        "  <td><a href=\"https://notredame.hosted.panopto.com/Panopto/Pages/Viewer.aspx?id=b1d40bd6-1199-4368-a467-add30156e3be\">Reading in a CSV File Using Dictionaries</a></td>\n",
        "  </tr>\n",
        "  </table>\n",
        "\n",
        "92. For `.csv` files that contain header rows, we might want to connect the header row values with subsequent row values.\n",
        "\n",
        "93. We can do this by reading the `.csv` file as a dictionary, rather than a list containing row sub-lists.\n",
        "\n",
        "94. Remember dictionaries have key-value pairs, where we can access a value by using its key name.\n",
        "\n",
        "95. For tabular data, we can think of the key as the field name contained in the header row and the value as column or field values.\n",
        "\n",
        "96. We read a `.csv` file to a dictionary using a `DictReader` object (versus the `csv.reader` object).\n"
      ],
      "metadata": {
        "id": "d4VAWd9o1bB7"
      }
    },
    {
      "cell_type": "code",
      "source": [
        "# import csv module\n",
        "import csv\n",
        "\n",
        "# open csv file\n",
        "exampleFile = open('exampleWithHeader.csv')\n",
        "\n",
        "# reading exampleFile to a DictReader object\n",
        "exampleDictReader = csv.DictReader(exampleFile)\n",
        "\n",
        "# outputs DictReader object as a dictionary\n",
        "for line in exampleDictReader:\n",
        "\tprint(line)"
      ],
      "metadata": {
        "id": "Hel2CNQP1b8y"
      },
      "execution_count": null,
      "outputs": []
    },
    {
      "cell_type": "markdown",
      "source": [
        "97. Within the `for` loop, the `DictReader` object sets `row` to a dictionary object with keys derived from the headers in the first row.\n",
        "\n",
        "98. The `DictReader` object means we don't have to separate the header information from the rest of the data contained in the file, because the `DictReader` object does this for us.\n",
        "\n",
        "99. But what can we do if we want to read to a dictionary a `.csv` file that doesn't incldue a header row?\n",
        "\n",
        "100. We can pass a second argument to the `DictReader()` function to manually set header names."
      ],
      "metadata": {
        "id": "b5Jrr5Lr1c9a"
      }
    },
    {
      "cell_type": "code",
      "source": [
        "# import csv module\n",
        "import csv\n",
        "\n",
        "# open csv file\n",
        "exampleFile2 = open('example.csv')\n",
        "\n",
        "# reading exampleFile to a dictionary with added field names\n",
        "exampleDictReader2 = csv.DictReader(exampleFile, ['time', 'name', 'amount'])\n",
        "\n",
        "# set keys for key-value pairs\n",
        "for row in exampleDictReader2:\n",
        "  print(row)"
      ],
      "metadata": {
        "id": "wPf8WXrb1dvc"
      },
      "execution_count": null,
      "outputs": []
    },
    {
      "cell_type": "markdown",
      "source": [
        "<blockquote>Q6: Describe in your own words how csv_DictReader interacts with structured data.</blockquote>\n",
        "\n",
        "# Writing to a `.csv` file\n",
        "\n",
        "<table>\n",
        " <tr><td>\n",
        "<img src=\"https://elearn.southampton.ac.uk/wp-content/blogs.dir/sites/64/2021/04/PanPan.png\" alt=\"Panopto logo\" width=\"50\"/></td>\n",
        "  <td><a href=\"https://notredame.hosted.panopto.com/Panopto/Pages/Viewer.aspx?id=a4deb213-a407-4a84-91dd-add3015a5d6f\">Writing to a CSV File</a></td>\n",
        "  </tr>\n",
        "  </table>\n",
        "\n",
        "101. We can create a `writer` object using the `csv.writer()` function to write data to a `.csv` file."
      ],
      "metadata": {
        "id": "tq6SIJvD1eqE"
      }
    },
    {
      "cell_type": "code",
      "source": [
        "# import csv module\n",
        "import csv\n",
        "\n",
        "# create and open output.csv file in write mode\n",
        "outputFile = open('output.csv', 'w')\n",
        "\n",
        "# create writer object\n",
        "outputWriter = csv.writer(outputFile)\n",
        "\n",
        "# write first row\n",
        "outputWriter.writerow(['spam', 'eggs', 'bacon', 'ham'])\n",
        "\n",
        "# write another row\n",
        "outputWriter.writerow(['Hello, world!', 'eggs', 'bacon', 'ham'])\n",
        "\n",
        "# write a third row\n",
        "outputWriter.writerow([1, 2, 3.141592, 4])\n",
        "\n",
        "# close the output file\n",
        "outputFile.close()"
      ],
      "metadata": {
        "id": "sEG7oPbG1fy_"
      },
      "execution_count": null,
      "outputs": []
    },
    {
      "cell_type": "markdown",
      "source": [
        "102. The `writerow()` method takes a list argument and writes that to a new row in the `writer` object, that is added to the `.csv` file.\n",
        "\n",
        "<blockquote>Q7: Create a small data structure and write it to a CSV file. Include code + comments.</blockquote>\n",
        "\n",
        "## Writing from a dictionary to a `.csv` file\n",
        "\n",
        "103. We can use the `DictWriter` object to write data in a dictionary to a `.csv` file.\n"
      ],
      "metadata": {
        "id": "lp6IbvT_1hP-"
      }
    },
    {
      "cell_type": "code",
      "source": [
        "# import csv module\n",
        "import csv\n",
        "\n",
        "# create and open output.csv file in write mode\n",
        "outputFile = open('output.csv', 'w')\n",
        "\n",
        "# create writer object\n",
        "outputDictWriter = csv.DictWriter(outputFile, ['Name', 'Pet', 'Phone'])\n",
        "\n",
        "# create header row\n",
        "outputDictWriter.writeheader()\n",
        "\n",
        "# write first row\n",
        "outputDictWriter.writerow({'Name': 'Alice', 'Pet': 'cat', 'Phone': '555-1234'})\n",
        "\n",
        "# write another row\n",
        "outputDictWriter.writerow({'Name': 'Bob', 'Phone': '555-9999'})\n",
        "\n",
        "# write a third row\n",
        "outputDictWriter.writerow({'Phone': '555-5555', 'Name': 'Carol', 'Pet': 'dog'})\n",
        "\n",
        "# close the output file\n",
        "outputFile.close()"
      ],
      "metadata": {
        "id": "LzDsqMZi1imU"
      },
      "execution_count": null,
      "outputs": []
    },
    {
      "cell_type": "markdown",
      "source": [
        "104. Note that the order of the key-value pairs in the dictionaries created manually using `writerow()` doesn't matter.\n",
        "\n",
        "105. Python writes the dictionaries to the `.csv` file using the order of the keys given to `DictWriter()`.\n",
        "\n",
        "106. Missing keys will be empty in the newly-created `.csv` file.\n",
        "\n",
        "<blockquote>Q8: Create a small dictionary and write it to a CSV file. Include code + comments.</blockquote>\n",
        "\n",
        "## Additional CSV Lab Notebook Questions\n",
        "\n",
        "<table>\n",
        " <tr><td>\n",
        "<img src=\"https://elearn.southampton.ac.uk/wp-content/blogs.dir/sites/64/2021/04/PanPan.png\" alt=\"Panopto logo\" width=\"50\"/></td>\n",
        "  <td><a href=\"https://notredame.hosted.panopto.com/Panopto/Pages/Viewer.aspx?id=783c4603-b270-48eb-9d09-add3015e7721\">Lab Notebook Questions 9-11</a></td>\n",
        "  </tr>\n",
        "  </table>\n",
        "\n",
        "Q9: Navigate to an open data portal and download a `.csv` file. \n",
        "\n",
        "A few places to start:\n",
        "- [Data.gov](https://www.data.gov/)\n",
        "- [City of Chicago Data Portal](https://data.cityofchicago.org/)\n",
        "- [City of South Bend Open Data](https://data-southbend.opendata.arcgis.com/)\n",
        "- [Sports Reference](https://www.sports-reference.com/)\n",
        "\n",
        "These open data portals are catalogs of datasets- you will need to explore the websites to identify and then download a specific dataset.\n",
        "\n",
        "Open the data in a spreadsheet program and/or text editor. \n",
        "- What do you see?\n",
        "- How can we start to make sense of the data based on available documentation?\n",
        "\n",
        "Q10: Write code + comments that load the data in Python using the two different approaches highlighted in this lab:\n",
        "- Lists and sublists (steps 51-60, or steps 61-69 for loading the file using a for loop)\n",
        "- Dictionaries (steps 92-98, and steps 99-100 cover how to deal with a file that does not include a header row)\n",
        "\n",
        "Q11: What challenges did you encounter for Q9 and Q10? How did you address or solve them? \n"
      ],
      "metadata": {
        "id": "0ZrdRiDj1kpt"
      }
    },
    {
      "cell_type": "markdown",
      "source": [
        "# JSON\n",
        "\n",
        "<table>\n",
        " <tr><td>\n",
        "<img src=\"https://elearn.southampton.ac.uk/wp-content/blogs.dir/sites/64/2021/04/PanPan.png\" alt=\"Panopto logo\" width=\"50\"/></td>\n",
        "  <td><a href=\"https://notredame.hosted.panopto.com/Panopto/Pages/Viewer.aspx?id=590176fc-855a-4537-8d4e-add30162fb87\">JSON Data in Python</a></td>\n",
        "  </tr>\n",
        "  </table>\n"
      ],
      "metadata": {
        "id": "6Eq4lK7E1lkc"
      }
    },
    {
      "cell_type": "markdown",
      "source": [
        "## What is JSON and why are we learning about it\n",
        "\n",
        "107. JavaScript Object Notation (JSON) is as popular way to format data as a single (purportedly human-readable) string. \n",
        "\n",
        "108. JavaScript programs use JSON data structures, but we can frequently encounter JSON data outside of a JavaScript environment.\n",
        "\n",
        "109. Websites that make machine-readable data available via an application programming interface (API- more on these in an upcoming lab) often provide that data in a JSON format. Examples include Twitter, Wikipedia, Data.gov, etc. Most live data connections available via an API are provided in a JSON format.\n",
        "\n",
        "110. JSON structure can vary WIDELY depending on the specific data provider, but this lab will cover some basic elements of working with JSON in Python.\n",
        "\n",
        "111. The easiest way to think of JSON data as a plain-text data format made up of something like key-value pairs, like we've encountered previously in working with dictionaries.\n",
        "\n",
        "112. Example JSON string: `stringOfJsonData = '{\"name\": Zophie\", \"isCat\": true, \"miceCaught\": 0, \"felineIQ\": null}'`\n",
        "\n",
        "113. From looking at the example string, we can see field names or keys (`name`, `isCat`, `miceCaught`, `felineIQ`) and values for those fields.\n",
        "\n",
        "114. To use more precise terminology, JSON data has the following attributes:\n",
        "- uses name/value pairs\n",
        "- separates data using commas\n",
        "- holds objects using curly braces `{}`\n",
        "- holds arrays using square brackets `[]`\n",
        "\n",
        "115. In our example `stringOfJsonData`, we have an object contained in curly braces. \n",
        "\n",
        "116. An object can include multiple name/value pairs. Multiple objects together can form an array.\n",
        "\n",
        "117. Values stored in JSON format must be one of the following data types:\n",
        "- string\n",
        "- number\n",
        "- object (JSON object)\n",
        "- array\n",
        "- boolean\n",
        "- null\n",
        "\n",
        "118. How is data stored in a JSON format different than a CSV? \n",
        "\n",
        "119. A `.csv` file uses characters as delimiters and has more of a tabular (table-like) structure.\n",
        "\n",
        "120. JSON data uses characters as part of the syntax, but not in the same way as delimited data files. \n",
        "\n",
        "121. Additionally, the data stored in a JSON format has values that are attached to names (or keys).\n",
        "\n",
        "122. JSON can also have a hierarchical or nested structure, in that objects can be stored or nested inside other objects as part of the same array.\n",
        "\n",
        "123. For example, take a look at sapmle JSON data from Twitter's API:\n",
        "\n",
        "```JSON\n",
        "{\n",
        "  \"created_at\": \"Thu Apr 06 15:24:15 +0000 2017\",\n",
        "  \"id_str\": \"850006245121695744\",\n",
        "  \"text\": \"1\\/ Today we\\u2019re sharing our vision for the future of the Twitter API platform!\\nhttps:\\/\\/t.co\\/XweGngmxlP\",\n",
        "  \"user\": {\n",
        "    \"id\": 2244994945,\n",
        "    \"name\": \"Twitter Dev\",\n",
        "    \"screen_name\": \"TwitterDev\",\n",
        "    \"location\": \"Internet\",\n",
        "    \"url\": \"https:\\/\\/dev.twitter.com\\/\",\n",
        "    \"description\": \"Your official source for Twitter Platform news, updates & events. Need technical help? Visit https:\\/\\/twittercommunity.com\\/ \\u2328\\ufe0f #TapIntoTwitter\"\n",
        "  },\n",
        "  \"place\": {   \n",
        "  },\n",
        "  \"entities\": {\n",
        "    \"hashtags\": [      \n",
        "    ],\n",
        "    \"urls\": [\n",
        "      {\n",
        "        \"url\": \"https:\\/\\/t.co\\/XweGngmxlP\",\n",
        "        \"unwound\": {\n",
        "          \"url\": \"https:\\/\\/cards.twitter.com\\/cards\\/18ce53wgo4h\\/3xo1c\",\n",
        "          \"title\": \"Building the Future of the Twitter API Platform\"\n",
        "        }\n",
        "      }\n",
        "    ],\n",
        "    \"user_mentions\": [     \n",
        "    ]\n",
        "  }\n",
        "}\n",
        "```\n",
        "\n",
        "<blockquote>Q12: Decipher what we're seeing in the JSON here. What are some of the name/value pairs, and how are they organized in this object?</blockquote>\n"
      ],
      "metadata": {
        "id": "PvH27eG01nuX"
      }
    },
    {
      "cell_type": "markdown",
      "source": [
        "## Reading JSON into Python\n",
        "\n",
        "124. We can read JSON into Python using the `json` module.\n",
        "\n",
        "<blockquote><a href=\"https://docs.python.org/3/library/json.html\">Click here</a> to learn more about the <code>json</code> module.</blockquote>\n",
        "\n",
        "125. The JSON module includes a few key functions for loading JSON data into Python:\n",
        "- `json.loads()` takes a single string of JSON and loads it as a Python value\n",
        "- `json.load()` takes a JSON file (or file-like object) and loads it as a Python value\n",
        "- `json.dumps()` takes a Python value and transforms it to a JSON object.\n",
        "\n",
        "126. Translation table:\n",
        "\n",
        "JSON | Python\n",
        "--- | ---\n",
        "object | dict\n",
        "array | list\n",
        "string | str\n",
        "number (int) | int\n",
        "number (real) | float\n",
        "true | True\n",
        "false | False\n",
        "null | None\n",
        "\n",
        "127. To translate a string of JSON data into a Python value, we pass it to the `json.loads()` function."
      ],
      "metadata": {
        "id": "MOEJ0ov_1pqY"
      }
    },
    {
      "cell_type": "code",
      "source": [
        "# import json module\n",
        "import json\n",
        "\n",
        "# string of JSON data\n",
        "stringOfJsonData = '{\"name\": \"Zophie\", \"isCat\": true, \"miceCaught\": 0, \"felineIQ\": null}'\n",
        "\n",
        "# load JSON data as Python value \n",
        "jsonDataAsPythonValue = json.loads(stringOfJsonData)\n",
        "\n",
        "# output JSON string as Python value\n",
        "jsonDataAsPythonValue"
      ],
      "metadata": {
        "id": "qvXpuLMS1rRa"
      },
      "execution_count": null,
      "outputs": []
    },
    {
      "cell_type": "markdown",
      "source": [
        "128. This block of code imports the `json` module, calls the `loads()` function and passes a string of JSON data to the `loads()` function.\n",
        "\n",
        "129. A few notes on this workflow:\n",
        "- JSON strings always use double quotes, which is rendered in Python as a dictionary. Because Python dictionaries are not ordered, the order of the Python dictionary may not match the original JSON string order.\n",
        "- In this example, we are loading a single string of JSON, which means we use the `json.loads()` function. When loading a JSON file (or file-like object), we would need to use the `json.load()` argument.\n",
        "\n",
        "## Working with JSON in Python\n",
        "\n",
        "130. Now that the JSON data is stored as a dictionary in Python, we can interact with it via the functionality avaialble via Python dictionaries.\n",
        "\n",
        "131. We could get all of the keys in the dictionary using the `keys()` method."
      ],
      "metadata": {
        "id": "cwpdOTco1sqS"
      }
    },
    {
      "cell_type": "code",
      "source": [
        "# import json module\n",
        "import json\n",
        "\n",
        "# string of JSON data\n",
        "stringOfJsonData = '{\"name\": \"Zophie\", \"isCat\": true, \"miceCaught\": 0, \"felineIQ\": null}'\n",
        "\n",
        "# load JSON data as Python value \n",
        "jsonDataAsPythonValue = json.loads(stringOfJsonData)\n",
        "\n",
        "# print list of keys\n",
        "print(jsonDataAsPythonValue.keys())"
      ],
      "metadata": {
        "id": "tDJeYhYD1tjp"
      },
      "execution_count": null,
      "outputs": []
    },
    {
      "cell_type": "markdown",
      "source": [
        "132. We could get all of the values in the dictionary using the `values()` method.\n"
      ],
      "metadata": {
        "id": "ifUlCOya1vHV"
      }
    },
    {
      "cell_type": "code",
      "source": [
        "# import json module\n",
        "import json\n",
        "\n",
        "# string of JSON data\n",
        "stringOfJsonData = '{\"name\": \"Zophie\", \"isCat\": true, \"miceCaught\": 0, \"felineIQ\": null}'\n",
        "\n",
        "# load JSON data as Python value \n",
        "jsonDataAsPythonValue = json.loads(stringOfJsonData)\n",
        "\n",
        "# print list of values\n",
        "print(jsonDataAsPythonValue.values())"
      ],
      "metadata": {
        "id": "9_7EivUv1wOk"
      },
      "execution_count": null,
      "outputs": []
    },
    {
      "cell_type": "markdown",
      "source": [
        "133. We could iterate by keys over the items in the dictionary.\n"
      ],
      "metadata": {
        "id": "uE9DZqFR1xK0"
      }
    },
    {
      "cell_type": "code",
      "source": [
        "# import json module\n",
        "import json\n",
        "\n",
        "# string of JSON data\n",
        "stringOfJsonData = '{\"name\": \"Zophie\", \"isCat\": true, \"miceCaught\": 0, \"felineIQ\": null}'\n",
        "\n",
        "# load JSON data as Python value \n",
        "jsonDataAsPythonValue = json.loads(stringOfJsonData)\n",
        "\n",
        "# iterate by keys using for loop\n",
        "for key in jsonDataAsPythonValue.keys():\n",
        "  print(key, jsonDataAsPythonValue[key])"
      ],
      "metadata": {
        "id": "6D5inxlX1yAS"
      },
      "execution_count": null,
      "outputs": []
    },
    {
      "cell_type": "markdown",
      "source": [
        "134. We could also iterate over items in dictionary using key-value pairs.\n"
      ],
      "metadata": {
        "id": "lwPHOtrW1ykB"
      }
    },
    {
      "cell_type": "code",
      "source": [
        "# import json module\n",
        "import json\n",
        "\n",
        "# string of JSON data\n",
        "stringOfJsonData = '{\"name\": \"Zophie\", \"isCat\": true, \"miceCaught\": 0, \"felineIQ\": null}'\n",
        "\n",
        "# load JSON data as Python value \n",
        "jsonDataAsPythonValue = json.loads(stringOfJsonData)\n",
        "\n",
        "# iterate by key value pairs using for loop\n",
        "for key, value in jsonDataAsPythonValue.items():\n",
        "  print(key, value)"
      ],
      "metadata": {
        "id": "7YEYgYuf1zbk"
      },
      "execution_count": null,
      "outputs": []
    },
    {
      "cell_type": "markdown",
      "source": [
        "135. We can read the value for a particular key using the index operator. The command `jsonDataAsPythonValue['name']` will return `Zophie`.\n",
        "\n",
        "136. In situations where JSON data includes nested or hierarchical objects and arrays, we will end up with a list of dictionaries in Python.\n",
        "\n",
        "137. For example, let's say we have a different JSON example and want to use more complex expressions in Python.\n"
      ],
      "metadata": {
        "id": "zDnR_wRM10Re"
      }
    },
    {
      "cell_type": "code",
      "source": [
        "# import json module\n",
        "import json\n",
        "\n",
        "# new json data\n",
        "data = '''\n",
        "[\n",
        "  { \"id\" : \"001\",\n",
        "    \"x\" : \"2\",\n",
        "    \"name\" : \"Chuck\"\n",
        "  } ,\n",
        "  { \"id\" : \"009\",\n",
        "    \"x\" : \"7\",\n",
        "    \"name\" : \"Brent\"\n",
        "  }\n",
        "]'''\n",
        "\n",
        "#load data as json\n",
        "info = json.loads(data)\n",
        "\n",
        "# print number of users\n",
        "print('User Count:', len(info))\n",
        "\n",
        "# use for loop to print list of names, IDs, and attributes\n",
        "for item in info:\n",
        "  print('Name', item['name'])\n",
        "  print('Id', item['id'])\n",
        "  print('Attribute', item['x'])"
      ],
      "metadata": {
        "id": "dFr4Vy5K118F"
      },
      "execution_count": null,
      "outputs": []
    },
    {
      "cell_type": "markdown",
      "source": [
        "138. For more on working with dictionaries in Python:\n",
        "- [Elements of Computing I lab](https://github.com/kwaldenphd/python-lab6/blob/master/README.md#working-with-dictionaries)\n",
        "- [W3 Schools tutorial](https://www.w3schools.com/python/python_dictionaries.asp)\n",
        "\n",
        "## Writing to JSON from Python\n",
        "\n",
        "139. The `json.dumps()` function will translate a Python dictionary into a string of JSON-formatted data."
      ],
      "metadata": {
        "id": "efzmgwYB124N"
      }
    },
    {
      "cell_type": "code",
      "source": [
        "# import json module\n",
        "import json\n",
        "\n",
        "# Python dictionary\n",
        "pythonValue = {'isCat': True, 'miceCaught': 0, 'name': 'Zophie', 'felineIQ': None}\n",
        "\n",
        "# translate Python value to JSON string\n",
        "stringOfJsonData = json.dumps(pythonValue)\n",
        "\n",
        "# show string of data\n",
        "stringOfJsonData"
      ],
      "metadata": {
        "id": "265qJpfp16Th"
      },
      "execution_count": null,
      "outputs": []
    },
    {
      "cell_type": "markdown",
      "source": [
        "140. We can also write data in a Python dictionary to a JSON file also using `json.dump()`.\n"
      ],
      "metadata": {
        "id": "h7hd8oYG167B"
      }
    },
    {
      "cell_type": "code",
      "source": [
        "# import json module\n",
        "import json\n",
        "\n",
        "# Python dictionary\n",
        "pythonValue = {'isCat': True, 'miceCaught': 0, 'name': 'Zophie', 'felineIQ': None}\n",
        "\n",
        "# create new JSON file and write dictionary to file\n",
        "with open('output.json', 'w') as json_file:\n",
        "\tjson.dump(pythonValue, json_file)"
      ],
      "metadata": {
        "id": "Su_alugz17lZ"
      },
      "execution_count": null,
      "outputs": []
    },
    {
      "cell_type": "markdown",
      "source": [
        "141. Later in the semester we will talk about how to read JSON data into Python and convert it to a tabular data structure (called a data frame in Python), using a library called `pandas`. Stay tuned!\n",
        "\n",
        "<blockquote>Q13: Create a string of JSON data and write it to a JSON file. Include code + comments.</blockquote>\n",
        "\n",
        "## Additional JSON Lab Notebook Questions\n",
        "\n",
        "<table>\n",
        " <tr><td>\n",
        "<img src=\"https://elearn.southampton.ac.uk/wp-content/blogs.dir/sites/64/2021/04/PanPan.png\" alt=\"Panopto logo\" width=\"50\"/></td>\n",
        "  <td><a href=\"https://notredame.hosted.panopto.com/Panopto/Pages/Viewer.aspx?id=39ca985f-224f-4e6d-9f8a-add3016c37a8\">Lab Notebook Questions 14-16</a></td>\n",
        "  </tr>\n",
        "  </table>\n",
        "\n",
        "Q14: Navigate to an open data portal and download a JSON file. \n",
        "\n",
        "Some options that can get you started:\n",
        "- [Data.gov](https://www.data.gov/)\n",
        "- [City of Chicago Data Portal](https://data.cityofchicago.org/)\n",
        "- [City of South Bend Open Data](https://data-southbend.opendata.arcgis.com/)\n",
        "\n",
        "These open data portals are catalogs of datasets- you will need to explore the websites to identify and then download a specific dataset.\n",
        "\n",
        "Open the data in a spreadsheet program and/or text editor.\n",
        "\n",
        "Describe what are you seeing. How can we start to make sense of this data? What documentation is available?\n",
        "\n",
        "Q15: Write code + comments that accomplish the following tasks:\n",
        "- Load the JSON data into Python\n",
        "- Convert to a Python value\n",
        "\n",
        "Steps 124-129 in the lab procedure provide sample code and additional considerations for loading a JSON file in Python.\n",
        "\n",
        "- In the JSON example in the lab, we loaded a single string of JSON, which means we use the `json.loads()` function. \n",
        "- When loading a JSON file (or file-like object), we would need to use the `json.load()` argument.\n",
        "\n",
        "Q16: What challenges did you encounter for Q14 and Q15? How did you address or solve them? "
      ],
      "metadata": {
        "id": "oQ61byPF1-4G"
      }
    },
    {
      "cell_type": "markdown",
      "source": [
        "# Lab Notebook Questions\n",
        "\n",
        "Lab notebook template:\n",
        "- [`.py` file](https://drive.google.com/file/d/1Dacp329cBMosmJvJcD10qSavgHpP3rYN/view?usp=sharing)\n",
        "- [Jupyter Notebook](https://colab.research.google.com/drive/1sL-GUG-NtBguee6NaYoazgPQmdKxmWpV?usp=sharing)\n",
        "\n",
        "Q1: Open the `example.xlsx` file in a text editor. Describe what you see.\n",
        "\n",
        "Q2: How does your answer to Q1 compare to what you see when you open the `example.csv` file in a text editor?\n",
        "\n",
        "Q3: Open the `example.xlsx` file in a spreadsheet program. What happens when you try to save the file as a `.csv` format? What happens when you open the newly-created `csv` file in a spreadsheet program or text editor?\n",
        "\n",
        "Q4: Modify the code provided to load the `example.txt` file."
      ],
      "metadata": {
        "id": "_vOmU12e2AEA"
      }
    },
    {
      "cell_type": "code",
      "source": [
        "# import csv module\n",
        "import csv\n",
        "\n",
        "# load tab-separated value file\n",
        "tsv_file = open(FILE NAME)\n",
        "\n",
        "# create a reader object and specify the new delimiter\n",
        "read_tsv = csv.reader(tsv_file, delimiter=SPECIFY DELIMITER HERE)\n",
        "\n",
        "# use a for loop to read in the data\n",
        "for row in read_tsv:\n",
        "  print(row)"
      ],
      "metadata": {
        "id": "Nibo0YDl2A6_"
      },
      "execution_count": null,
      "outputs": []
    },
    {
      "cell_type": "markdown",
      "source": [
        "Q5: Define escape characters or quote characters in your own words. Describe a situation in which escape characters would be needed, and how you would address that challenge using Python syntax.\n",
        "\n",
        "Q6: Describe in your own words how `csv_DictReader` interacts with structured data.\n",
        "\n",
        "Q7: Create a small data structure and write it to a CSV file. Include code + comments.\n",
        "\n",
        "Q8: Create a small dictionary and write it to a CSV file. Include code + comments.\n",
        "\n",
        "Q9: Navigate to an open data portal and download a `.csv` file. \n",
        "\n",
        "A few places to start:\n",
        "- [Data.gov](https://www.data.gov/)\n",
        "- [City of Chicago Data Portal](https://data.cityofchicago.org/)\n",
        "- [City of South Bend Open Data](https://data-southbend.opendata.arcgis.com/)\n",
        "- [Sports Reference](https://www.sports-reference.com/)\n",
        "\n",
        "Open the data in a spreadsheet program and/or text editor. \n",
        "- What do you see?\n",
        "- How can we start to make sense of the data based on available documentation?\n",
        "\n",
        "Q10: Write code + comments that load the data in Python using the two different approaches highlighted in this lab:\n",
        "- Lists and sublists (steps 51-60, or steps 61-69 for loading the file using a for loop)\n",
        "- Dictionaries (steps 92-98, and steps 99-100 cover how to deal with a file that does not include a header row)\n",
        "\n",
        "Q11: What challenges did you encounter for Q9 and Q10? How did you address or solve them? \n",
        "\n",
        "Q12: Decipher what we're seeing in the JSON here. What are some of the name/value pairs, and how are they organized in this data object?\n",
        "\n",
        "Q13: Create a string of JSON data and write it to a JSON file. Include code + comments.\n",
        "\n",
        "Q14: Navigate to an open data portal and download a JSON file. \n",
        "\n",
        "Some options that can get you started:\n",
        "- [Data.gov](https://www.data.gov/)\n",
        "- [City of Chicago Data Portal](https://data.cityofchicago.org/)\n",
        "- [City of South Bend Open Data](https://data-southbend.opendata.arcgis.com/)\n",
        "\n",
        "Open the data in a spreadsheet program and/or text editor \n",
        "- What do you see?\n",
        "- How can we start to make sense of the data based on available documentation?\n",
        "\n",
        "Q15: Write code + comments that accomplish the following tasks:\n",
        "- Load the JSON data into Python\n",
        "- Convert to a Python value\n",
        "\n",
        "The lab procedure provides sample code and additional considerations for loading a JSON file in Python.\n",
        "\n",
        "- In the JSON example in the lab, we loaded a single string of JSON, which means we use the `json.loads()` function. \n",
        "- When loading a JSON file (or file-like object), we would need to use the `json.load()` argument.\n",
        "\n",
        "Q16: What challenges did you encounter for Q14 and Q15? How did you address or solve them? "
      ],
      "metadata": {
        "id": "1xeVnXQ-2Cyh"
      }
    }
  ],
  "metadata": {
    "kernelspec": {
      "display_name": "Python 3",
      "language": "python",
      "name": "python3"
    },
    "language_info": {
      "codemirror_mode": {
        "name": "ipython",
        "version": 3
      },
      "file_extension": ".py",
      "mimetype": "text/x-python",
      "name": "python",
      "nbconvert_exporter": "python",
      "pygments_lexer": "ipython3",
      "version": "3.8.5"
    },
    "colab": {
      "name": "python-structured-data-procedure.ipynb",
      "provenance": [],
      "toc_visible": true,
      "include_colab_link": true
    }
  },
  "nbformat": 4,
  "nbformat_minor": 0
}