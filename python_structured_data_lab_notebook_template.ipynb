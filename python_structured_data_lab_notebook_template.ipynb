{
  "nbformat": 4,
  "nbformat_minor": 0,
  "metadata": {
    "colab": {
      "provenance": [],
      "toc_visible": true,
      "authorship_tag": "ABX9TyNijhlq2eJB2eXzEbD8HOyl",
      "include_colab_link": true
    },
    "kernelspec": {
      "name": "python3",
      "display_name": "Python 3"
    },
    "language_info": {
      "name": "python"
    }
  },
  "cells": [
    {
      "cell_type": "markdown",
      "metadata": {
        "id": "view-in-github",
        "colab_type": "text"
      },
      "source": [
        "<a href=\"https://colab.research.google.com/github/kwaldenphd/python-structured-data/blob/main/python_structured_data_lab_notebook_template.ipynb\" target=\"_parent\"><img src=\"https://colab.research.google.com/assets/colab-badge.svg\" alt=\"Open In Colab\"/></a>"
      ]
    },
    {
      "cell_type": "markdown",
      "source": [
        "# File I/O & Structured Data in Python"
      ],
      "metadata": {
        "id": "7MzhNm9Tt6d3"
      }
    },
    {
      "cell_type": "markdown",
      "metadata": {
        "id": "ff876fb9"
      },
      "source": [
        "Student Name: **Enter Your Name Here (Double click to edit)**\n",
        "<br>\n",
        "Net ID: **Enter Your NetID Here (Double click to edit)**\n",
        "<br>"
      ]
    },
    {
      "cell_type": "markdown",
      "source": [
        "## Data\n",
        "\n",
        "You'll need four data files for this lab.\n",
        "- `example.csv`\n",
        "- `example.txt`\n",
        "- `example.xlsx`\n",
        "- `exampleWithHeader.csv`\n",
        "\n",
        "You can access them [via Google Drive](https://drive.google.com/drive/folders/1Sp_N34753ONJRU2AFKcocQ2DhCEhyL-m?usp=sharing) (ND users only)"
      ],
      "metadata": {
        "id": "9sWrtGDsUtPD"
      }
    },
    {
      "cell_type": "markdown",
      "source": [
        "## Lab Notebook Questions"
      ],
      "metadata": {
        "id": "tQARbhvayCrm"
      }
    },
    {
      "cell_type": "markdown",
      "source": [
        "### **Q1A: Open the `example.xlsx` file in a text editor. Describe what you see.**\n",
        "\n",
        "### **Q1B: How does your answer to Q1A compare to what you see when you open the `example.csv` file in a text editor?**\n",
        "\n",
        "### **Q1C: Open the `example.xlsx` file in a spreadsheet program. Save the file as a `.csv` format. What happens? Or what happens when you open the newly-created `.csv` file in a spreadsheet program or text editor?**\n"
      ],
      "metadata": {
        "id": "pgEKP1FtpExo"
      }
    },
    {
      "cell_type": "markdown",
      "metadata": {
        "id": "L0cFnREpis-5"
      },
      "source": [
        "**AnswerQ1**: Your answer here (double click to edit)"
      ]
    },
    {
      "cell_type": "code",
      "source": [
        "# your codes here (double click to edit)"
      ],
      "metadata": {
        "id": "3ljNdsyxpQRa"
      },
      "execution_count": null,
      "outputs": []
    },
    {
      "cell_type": "markdown",
      "source": [
        "### **Q2A: Create a small list data structure and write it to a CSV file. Answer to this question includes program + comments that document process and explain your code.**\n",
        "\n",
        "### **Q2B: Create a small dictionary and write it to a CSV file. Answer to this question includes program + comments that document process and explain your code.**"
      ],
      "metadata": {
        "id": "FembQg4kp_M2"
      }
    },
    {
      "cell_type": "markdown",
      "metadata": {
        "id": "v2XYT06SpfJQ"
      },
      "source": [
        "**AnswerQ2**: Your answer here (double click to edit)"
      ]
    },
    {
      "cell_type": "code",
      "source": [
        "# space for Q2A program, double click to edit"
      ],
      "metadata": {
        "id": "tY_xjVyoiRLu"
      },
      "execution_count": null,
      "outputs": []
    },
    {
      "cell_type": "code",
      "source": [
        "# space for Q2B program, double click to edit"
      ],
      "metadata": {
        "id": "9HNPtsQ0VC41"
      },
      "execution_count": null,
      "outputs": []
    },
    {
      "cell_type": "markdown",
      "source": [
        "### **Q3A: Navigate to an open data portal and download a `.csv` file.** \n",
        "\n",
        "**A few places to start:**\n",
        "- [Data.gov](https://www.data.gov/)\n",
        "- [City of Chicago Data Portal](https://data.cityofchicago.org/)\n",
        "- [City of South Bend Open Data](https://data-southbend.opendata.arcgis.com/)\n",
        "- [Sports Reference](https://www.sports-reference.com/)\n",
        "\n",
        "**These open data portals are catalogs of datasets- you will need to explore the websites to identify and then download a specific dataset.**\n",
        "\n",
        "**Open the data in a spreadsheet program and/or text editor. **\n",
        "- What do you see?\n",
        "- How can we start to make sense of the data based on available documentation?\n",
        "\n",
        "### **Q3B: Write two programs that load the data in Python using the two different approaches highlighted in this lab:**\n",
        "- Lists and sublists\n",
        "- Dictionaries\n",
        "\n",
        "**Answer to this question includes program + comments that document process and explain your code.**\n",
        "\n",
        "### **Q3C: What challenges did you encounter? How did you address or solve them?** "
      ],
      "metadata": {
        "id": "3URjcSZDpbFu"
      }
    },
    {
      "cell_type": "markdown",
      "metadata": {
        "id": "mB-kFikxis_I"
      },
      "source": [
        "**AnswerQ3:** Your answer here (double click to edit)"
      ]
    },
    {
      "cell_type": "code",
      "source": [
        "# space for lists/sublists Q3B program"
      ],
      "metadata": {
        "id": "UEfw6psfpgsa"
      },
      "execution_count": null,
      "outputs": []
    },
    {
      "cell_type": "code",
      "source": [
        "# space for dictionaries Q3B program"
      ],
      "metadata": {
        "id": "TryCPhdVVXIF"
      },
      "execution_count": null,
      "outputs": []
    },
    {
      "cell_type": "markdown",
      "source": [
        "### **Q4: Modify the code provided below to load the example.txt file provided in this lab. Answer to this question includes program + comments that document process and explain your code.**"
      ],
      "metadata": {
        "id": "1HWIBpTsawd8"
      }
    },
    {
      "cell_type": "code",
      "source": [
        "# import csv module\n",
        "import csv\n",
        "\n",
        "# load tab-separated value file\n",
        "tsv_file = open(FILE NAME)\n",
        "\n",
        "# create a reader object and specify the new delimiter\n",
        "read_tsv = csv.reader(tsv_file, delimiter=SPECIFY DELIMITER HERE)\n",
        "\n",
        "# use a for loop to read in the data\n",
        "for row in read_tsv:\n",
        "  print(row)"
      ],
      "metadata": {
        "id": "rU01zDFKa9u1"
      },
      "execution_count": null,
      "outputs": []
    },
    {
      "cell_type": "markdown",
      "metadata": {
        "id": "Cf3iN_D7is_N"
      },
      "source": [
        "**AnswerQ4:** Your answer here (double click to edit)"
      ]
    },
    {
      "cell_type": "code",
      "execution_count": null,
      "metadata": {
        "id": "9jRJxH98azdc"
      },
      "outputs": [],
      "source": [
        "# your codes here (double click to edit)"
      ]
    },
    {
      "cell_type": "markdown",
      "source": [
        "### **Q5: Describe the concept of escape characters or quote characters in your own words. Describe a situation in which escape characters would be needed, and how you would address that challenge using Python syntax.**"
      ],
      "metadata": {
        "id": "NIornfjZpmFy"
      }
    },
    {
      "cell_type": "markdown",
      "metadata": {
        "id": "3BAA-_Vyis_X"
      },
      "source": [
        "**AnswerQ5:** Your answer here (double click to edit)"
      ]
    },
    {
      "cell_type": "code",
      "execution_count": null,
      "metadata": {
        "id": "r_wK6Djjd3TQ"
      },
      "outputs": [],
      "source": [
        "# your codes here (double click to edit)"
      ]
    },
    {
      "cell_type": "markdown",
      "source": [
        "### **Q6: Decipher what we're seeing in the JSON here. What are some of the name/value pairs, and how are they organized in this object?**\n",
        "\n",
        "```JSON\n",
        "{\n",
        "  \"created_at\": \"Thu Apr 06 15:24:15 +0000 2017\",\n",
        "  \"id_str\": \"850006245121695744\",\n",
        "  \"text\": \"1\\/ Today we\\u2019re sharing our vision for the future of the Twitter API platform!\\nhttps:\\/\\/t.co\\/XweGngmxlP\",\n",
        "  \"user\": {\n",
        "    \"id\": 2244994945,\n",
        "    \"name\": \"Twitter Dev\",\n",
        "    \"screen_name\": \"TwitterDev\",\n",
        "    \"location\": \"Internet\",\n",
        "    \"url\": \"https:\\/\\/dev.twitter.com\\/\",\n",
        "    \"description\": \"Your official source for Twitter Platform news, updates & events. Need technical help? Visit https:\\/\\/twittercommunity.com\\/ \\u2328\\ufe0f #TapIntoTwitter\"\n",
        "  },\n",
        "  \"place\": {   \n",
        "  },\n",
        "  \"entities\": {\n",
        "    \"hashtags\": [      \n",
        "    ],\n",
        "    \"urls\": [\n",
        "      {\n",
        "        \"url\": \"https:\\/\\/t.co\\/XweGngmxlP\",\n",
        "        \"unwound\": {\n",
        "          \"url\": \"https:\\/\\/cards.twitter.com\\/cards\\/18ce53wgo4h\\/3xo1c\",\n",
        "          \"title\": \"Building the Future of the Twitter API Platform\"\n",
        "        }\n",
        "      }\n",
        "    ],\n",
        "    \"user_mentions\": [     \n",
        "    ]\n",
        "  }\n",
        "}\n",
        "```"
      ],
      "metadata": {
        "id": "ymUHiLayptBD"
      }
    },
    {
      "cell_type": "markdown",
      "metadata": {
        "id": "hcRpdIN_is_b"
      },
      "source": [
        "**AnswerQ6:** Your answer here (double click to edit)"
      ]
    },
    {
      "cell_type": "code",
      "execution_count": null,
      "metadata": {
        "id": "9lT7urowd9w3"
      },
      "outputs": [],
      "source": [
        "# your codes here (double click to edit)"
      ]
    },
    {
      "cell_type": "markdown",
      "source": [
        "### **Q7: Create a string of JSON data and write it to a JSON file. Answer to this question includes program + comments that document process and explain your code.**"
      ],
      "metadata": {
        "id": "HtUKT1xNqJQy"
      }
    },
    {
      "cell_type": "markdown",
      "metadata": {
        "id": "tihNYy4uis_c"
      },
      "source": [
        "**AnswerQ7:** Your answer here (double click to edit)"
      ]
    },
    {
      "cell_type": "code",
      "execution_count": null,
      "metadata": {
        "id": "roxNuL4SHkw3"
      },
      "outputs": [],
      "source": [
        "# your codes here (double click to edit)"
      ]
    },
    {
      "cell_type": "markdown",
      "source": [
        "### **Q8A: Navigate to an open data portal and download a JSON file.**\n",
        "\n",
        "Some options that can get you started:\n",
        "- [Data.gov](https://www.data.gov/)\n",
        "- [City of Chicago Data Portal](https://data.cityofchicago.org/)\n",
        "- [City of South Bend Open Data](https://data-southbend.opendata.arcgis.com/)\n",
        "\n",
        "**These open data portals are catalogs of datasets- you will need to explore the websites to identify and then download a specific dataset. Open the data in a spreadsheet program and/or text editor. Describe what are you seeing. How can we start to make sense of this data? What documentation is available?**\n",
        "\n",
        "### **Q8B: Write programs that accomplish the following tasks:**\n",
        "- Load the JSON data into Python\n",
        "- Convert to a Python value\n",
        "\n",
        "The previous sections of the lab procedure provide sample code and additional considerations for loading a JSON file in Python.\n",
        "- NOTE: In the JSON example in the lab, we loaded a single string of JSON, which means we use the `loads()` function. When loading a JSON file (or file-like object), we would need to use the `load()` argument.\n",
        "\n",
        "Answer to this question includes program + comments that document process and explain your code.\n",
        "\n",
        "### **Q8C: What challenges did you encounter? How did you address or solve them?** "
      ],
      "metadata": {
        "id": "vu71MpmSivh5"
      }
    },
    {
      "cell_type": "markdown",
      "metadata": {
        "id": "G4XagE0Va57Q"
      },
      "source": [
        "**AnswerQ8:** Your answer here (double click to edit)"
      ]
    },
    {
      "cell_type": "code",
      "execution_count": null,
      "metadata": {
        "id": "8f8fxymXICRJ"
      },
      "outputs": [],
      "source": [
        "# your codes here (double click to edit)"
      ]
    }
  ]
}