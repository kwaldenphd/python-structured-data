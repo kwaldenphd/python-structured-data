{
  "nbformat": 4,
  "nbformat_minor": 0,
  "metadata": {
    "colab": {
      "provenance": [],
      "toc_visible": true,
      "authorship_tag": "ABX9TyPeK96Is8zon76fZllp33aV",
      "include_colab_link": true
    },
    "kernelspec": {
      "name": "python3",
      "display_name": "Python 3"
    },
    "language_info": {
      "name": "python"
    }
  },
  "cells": [
    {
      "cell_type": "markdown",
      "metadata": {
        "id": "view-in-github",
        "colab_type": "text"
      },
      "source": [
        "<a href=\"https://colab.research.google.com/github/kwaldenphd/python-structured-data/blob/main/python_structured_data_lab_notebook_template.ipynb\" target=\"_parent\"><img src=\"https://colab.research.google.com/assets/colab-badge.svg\" alt=\"Open In Colab\"/></a>"
      ]
    },
    {
      "cell_type": "markdown",
      "source": [
        "# File I/O & Structured Data in Python"
      ],
      "metadata": {
        "id": "7MzhNm9Tt6d3"
      }
    },
    {
      "cell_type": "markdown",
      "metadata": {
        "id": "ff876fb9"
      },
      "source": [
        "Student Name: **Enter Your Name Here (Double click to edit)**\n",
        "<br>\n",
        "Net ID: **Enter Your NetID Here (Double click to edit)**\n",
        "<br>"
      ]
    },
    {
      "cell_type": "markdown",
      "source": [
        "## Data\n",
        "\n",
        "You'll need four data files for this lab.\n",
        "- `example.csv` ([GitHub](https://raw.githubusercontent.com/kwaldenphd/python-structured-data/main/data/example.csv), [Google Drive](https://drive.google.com/file/d/1loSl4xUf3ElVgWMfWai3SR3vpGhMK6MS/view?usp=drive_link))\n",
        "- `example.txt` ([GitHub](https://raw.githubusercontent.com/kwaldenphd/python-structured-data/main/data/example.txt), [Google Drive](https://drive.google.com/file/d/1Snl-QnDBz7X2qxf5SdXTd1b0Wc_4ysR5/view?usp=drive_link))\n",
        "- `example.xlsx` ([GitHub](https://github.com/kwaldenphd/python-structured-data/blob/main/data/example.xlsx), [Google Drive](https://docs.google.com/spreadsheets/d/1qh2ympB2aLcSDl-u8r6VD08xePTtsun7/edit?usp=drive_link))\n",
        "- `exampleWithHeader.csv` ([GitHub](https://raw.githubusercontent.com/kwaldenphd/python-structured-data/main/data/exampleWithHeader.csv), [Google Drive](https://drive.google.com/file/d/1lZwUzM3rPzzWqyl6RWquGB_Xtk2EPxlR/view?usp=drive_link))\n",
        "\n",
        "You can also access them [via Google Drive](https://drive.google.com/drive/folders/1Sp_N34753ONJRU2AFKcocQ2DhCEhyL-m?usp=sharing) (ND users only).\n",
        "\n",
        "You'll need to download these files and put them in the same folder as your Jupyter Notebook (or upload them to Google Colab)."
      ],
      "metadata": {
        "id": "gP9gFxV8SUsd"
      }
    },
    {
      "cell_type": "markdown",
      "source": [
        "## How to submit this lab (and show your work)\n",
        "\n",
        "Moving forward, we're going to be submitting lab notebooks using the provide Jupyter Notebook template.\n",
        "- If working in JupyterLab (or another desktop IDE), download the `.ipynb` file to your local computer\n",
        "  * `File` - `Download` - `Download as .ipynb`\n",
        "- If working in Google Colaboratory, MAKE SURE you save a copy to your local drive. Otherwise your changes will not be saved.\n",
        "  * `File` - `Save a copy in Drive`\n",
        "\n",
        "The lab notebook template includes all of the questions as well as pre-created markdown cells for narrative text answers and pre-created code cells for any programs you may need to create.\n",
        "- Double click on these cells to edit and add your own content\n",
        "- If questions do not require a code component, you can ignore those cells\n",
        "- If questions to not require a narrative component, you can ignore those cells\n",
        "\n",
        "If working in JupyterLab or another desktop IDE, upload the lab notebook template `.ipynb` file to Canvas as your lab submission.\n",
        "\n",
        "If working in Google Colaboratory, submit the link to your notebook (checking sharing permissions, similar with Google Docs)."
      ],
      "metadata": {
        "id": "owH_07G3dVDX"
      }
    },
    {
      "cell_type": "markdown",
      "source": [
        "## Lab Notebook Questions"
      ],
      "metadata": {
        "id": "tQARbhvayCrm"
      }
    },
    {
      "cell_type": "markdown",
      "source": [
        "### **Q1A: Create a small list data structure and write it to a CSV file. Answer to this question includes program + comments that document process and explain your code.**\n",
        "\n",
        "### **Q1B: Create a small dictionary and write it to a CSV file. Answer to this question includes program + comments that document process and explain your code.**"
      ],
      "metadata": {
        "id": "FembQg4kp_M2"
      }
    },
    {
      "cell_type": "markdown",
      "metadata": {
        "id": "v2XYT06SpfJQ"
      },
      "source": [
        "**AnswerQ1**: Your answer here (double click to edit)"
      ]
    },
    {
      "cell_type": "code",
      "source": [
        "# space for Q1A program, double click to edit"
      ],
      "metadata": {
        "id": "tY_xjVyoiRLu"
      },
      "execution_count": null,
      "outputs": []
    },
    {
      "cell_type": "code",
      "source": [
        "# space for Q1B program, double click to edit"
      ],
      "metadata": {
        "id": "9HNPtsQ0VC41"
      },
      "execution_count": null,
      "outputs": []
    },
    {
      "cell_type": "markdown",
      "source": [
        "### **Q2: Decipher what we're seeing in the JSON here. What are some of the name/value pairs, and how are they organized in this object?**\n",
        "\n",
        "```JSON\n",
        "{\n",
        "  \"created_at\": \"Thu Apr 06 15:24:15 +0000 2017\",\n",
        "  \"id_str\": \"850006245121695744\",\n",
        "  \"text\": \"1\\/ Today we\\u2019re sharing our vision for the future of the Twitter API platform!\\nhttps:\\/\\/t.co\\/XweGngmxlP\",\n",
        "  \"user\": {\n",
        "    \"id\": 2244994945,\n",
        "    \"name\": \"Twitter Dev\",\n",
        "    \"screen_name\": \"TwitterDev\",\n",
        "    \"location\": \"Internet\",\n",
        "    \"url\": \"https:\\/\\/dev.twitter.com\\/\",\n",
        "    \"description\": \"Your official source for Twitter Platform news, updates & events. Need technical help? Visit https:\\/\\/twittercommunity.com\\/ \\u2328\\ufe0f #TapIntoTwitter\"\n",
        "  },\n",
        "  \"place\": {   \n",
        "  },\n",
        "  \"entities\": {\n",
        "    \"hashtags\": [      \n",
        "    ],\n",
        "    \"urls\": [\n",
        "      {\n",
        "        \"url\": \"https:\\/\\/t.co\\/XweGngmxlP\",\n",
        "        \"unwound\": {\n",
        "          \"url\": \"https:\\/\\/cards.twitter.com\\/cards\\/18ce53wgo4h\\/3xo1c\",\n",
        "          \"title\": \"Building the Future of the Twitter API Platform\"\n",
        "        }\n",
        "      }\n",
        "    ],\n",
        "    \"user_mentions\": [     \n",
        "    ]\n",
        "  }\n",
        "}\n",
        "```"
      ],
      "metadata": {
        "id": "ymUHiLayptBD"
      }
    },
    {
      "cell_type": "markdown",
      "metadata": {
        "id": "hcRpdIN_is_b"
      },
      "source": [
        "**AnswerQ2:** Your answer here (double click to edit)"
      ]
    },
    {
      "cell_type": "code",
      "execution_count": null,
      "metadata": {
        "id": "9lT7urowd9w3"
      },
      "outputs": [],
      "source": [
        "# your codes here (double click to edit)"
      ]
    },
    {
      "cell_type": "markdown",
      "source": [
        "### **Q3: Create a string of JSON data and write it to a JSON file. Answer to this question includes program + comments that document process and explain your code.**"
      ],
      "metadata": {
        "id": "HtUKT1xNqJQy"
      }
    },
    {
      "cell_type": "markdown",
      "metadata": {
        "id": "tihNYy4uis_c"
      },
      "source": [
        "**AnswerQ3:** Your answer here (double click to edit)"
      ]
    },
    {
      "cell_type": "code",
      "execution_count": null,
      "metadata": {
        "id": "roxNuL4SHkw3"
      },
      "outputs": [],
      "source": [
        "# your codes here (double click to edit)"
      ]
    },
    {
      "cell_type": "markdown",
      "source": [
        "### **Q4: Create your own `Series` object. Write code the accomplishes the following tasks. Your answer for these items should include a Python program + comments that document process and explain your code.**\n",
        "- Assign unique index attributes for each series value\n",
        "- Access a series value(s) using the index label\n",
        "- Perform at least two unique arithmetic operations on the Series\n",
        "- Test for null values in your series"
      ],
      "metadata": {
        "id": "x90hPYmJiXCd"
      }
    },
    {
      "cell_type": "markdown",
      "metadata": {
        "id": "Zorio7k7iXCf"
      },
      "source": [
        "**AnswerQ4**: Your answer here (double click to edit)"
      ]
    },
    {
      "cell_type": "code",
      "source": [
        "# your codes here (double click to edit)\n",
        "\n",
        "# create series object\n",
        "\n",
        "# assign unique index attributes\n",
        "\n",
        "# access value using index label\n",
        "\n",
        "# first arithmetic operation\n",
        "\n",
        "# second arithmetic operation\n",
        "\n",
        "# test for null values"
      ],
      "metadata": {
        "id": "LWk_FYvnuw1r"
      },
      "execution_count": null,
      "outputs": []
    },
    {
      "cell_type": "markdown",
      "source": [
        "### **Q5: Create your own small DataFrame. Write code that accomplishes the following tasks. Your answer for these items should include a Python program + comments that document process and explain your code.**\n",
        "\n",
        "- Change the original column order\n",
        "- Select a specific column(s) using its index label or name attribute\n",
        "- Select a specific row(s) using its index label or index value\n",
        "- Remove a column from the DataFrame\n",
        "- Determine summary statistics for values in the DataFrame"
      ],
      "metadata": {
        "id": "1HWIBpTsawd8"
      }
    },
    {
      "cell_type": "markdown",
      "metadata": {
        "id": "Cf3iN_D7is_N"
      },
      "source": [
        "**AnswerQ5:** Your answer here (double click to edit)"
      ]
    },
    {
      "cell_type": "code",
      "execution_count": null,
      "metadata": {
        "id": "9jRJxH98azdc"
      },
      "outputs": [],
      "source": [
        "# your codes here (double click to edit)\n",
        "\n",
        "# create dataframe\n",
        "\n",
        "# change column order\n",
        "\n",
        "# select column\n",
        "\n",
        "# select row\n",
        "\n",
        "# remove column\n",
        "\n",
        "# summary statistics"
      ]
    },
    {
      "cell_type": "markdown",
      "source": [
        "#### ***For the Q6 programs, you do not need to write code that actually loads an existing data file. That is, the lab does not provide data files that include these structures/attributes. Write sample code that shows the syntax you would use to load a file with the structures/attributes described in the question. For example, your answers might look something like the sample syntax shown in the previous section of the lab.***\n",
        "\n",
        "- HINT: Be prepared to reference and consult the additional pd.read_csv function arguments listed in the previous lab section's tables."
      ],
      "metadata": {
        "id": "_4UTDBVEvN7_"
      }
    },
    {
      "cell_type": "markdown",
      "source": [
        "### **Q6A: Write code that loads in a structured data file that uses a pipe symbol (|) as a delimiter. Include code + comments.**\n",
        "\n",
        "### **Q6B: Write code that loads in structured data file in which missing data values are represented by \"?\", \"??\", and \"-\" characters. Include code + comments.**\n",
        "\n",
        "### **Q6C: Write code that ignores the last 6 rows of a structured data file. Include code + comments.**\n",
        "\n",
        "### **Q6D: Write code that parses a structured data file in which commas \",\" are used as a thousands separator. Include code + comments.**"
      ],
      "metadata": {
        "id": "zuPNV4TviiLc"
      }
    },
    {
      "cell_type": "markdown",
      "metadata": {
        "id": "ezMjnk4iikMB"
      },
      "source": [
        "**AnswerQ6:** Your answer here (double click to edit)"
      ]
    },
    {
      "cell_type": "code",
      "execution_count": null,
      "metadata": {
        "id": "B6enDo4oilEI"
      },
      "outputs": [],
      "source": [
        "# your codes here (double click to edit)\n",
        "\n",
        "# Q6A program\n",
        "\n",
        "\n",
        "# Q6B program\n",
        "\n",
        "\n",
        "# Q6C program\n",
        "\n",
        "\n",
        "# Q6D program"
      ]
    },
    {
      "cell_type": "markdown",
      "source": [
        "### **Q7A: Load a structured data file as a `DataFrame`. You're welcome to use your own data file, the file from Thursday's in-class work, or the `sample-data.csv` file provided with this lab ([GitHub](https://github.com/kwaldenphd/football-structured-data/blob/main/background.md#football-rosters), [Google Drive](https://drive.google.com/file/d/1uDNxiBx2gVRmIPR3Ka3-jLguNkcl1LqC/view?usp=sharing)).**\n",
        "- [Click here](https://github.com/kwaldenphd/football-structured-data/blob/main/background.md#football-rosters) for more background on the sample data.\n",
        "\n",
        "### **Q7B: Using the DataFrame you created for Q7A, write code that accomplishes the following tasks. Your answer for these items should include a Python program + comments that document process and explain your code.**\n",
        "- Shows the first five rows\n",
        "- Shows the last five rows\n",
        "- Checks the data types for each column\n",
        "- Returns a technical summary for the DataFrame\n",
        "\n",
        "### **Q7C: Using the DataFrame you created for Q7A, write code that executes AT LEAST FOUR (4) of the following tasks. Your answer for these items should include a Python program + comments that document process and explain your code.**\n",
        "- Sorts a column by ascending values\n",
        "- Sorts a column by descending values\n",
        "- Selects a specific column in the DataFrame\n",
        "- Creates a new DataFrame with select columns from existing DataFrame\n",
        "- Uses a comparison operator to filter rows in the DataFrame\n",
        "- Uses an isin statement to filter rows in the DataFrame\n",
        "- Selects specific rows and columns"
      ],
      "metadata": {
        "id": "4jPIku3DioE_"
      }
    },
    {
      "cell_type": "markdown",
      "metadata": {
        "id": "4QBVCVmCiprd"
      },
      "source": [
        "**AnswerQ7:** Your answer here (double click to edit)"
      ]
    },
    {
      "cell_type": "code",
      "execution_count": null,
      "metadata": {
        "id": "cvwUQGLOiqrz"
      },
      "outputs": [],
      "source": [
        "# your codes here (double click to edit)\n",
        "\n",
        "# 7a load data\n",
        "\n",
        "# 7b show first five rows\n",
        "\n",
        "# 7b show last five rows\n",
        "\n",
        "# 7b check column data types\n",
        "\n",
        "# 7b technical summary\n",
        "\n",
        "# 7c first task\n",
        "\n",
        "# 7c second task\n",
        "\n",
        "# 7c third task\n",
        "\n",
        "# 7c fourth task"
      ]
    },
    {
      "cell_type": "markdown",
      "source": [
        "### **Q8A: Using the DataFrame you created for Q7, write code that executes AT LEAST ONE of the following tasks. Your answer for these items should include a Python program + comments that document process and explain your code.**\n",
        "\n",
        "- Removes duplicate rows\n",
        "- Removes rows with missing values\n",
        "- Fills missing values using .fillna, ffill, or bfill\n",
        "\n",
        "### **Q8B: Write your modified `DataFrame` from Q8A to a `.csv` file. Your answer for these items should include a Python program + comments that document process and explain your code.**"
      ],
      "metadata": {
        "id": "vu71MpmSivh5"
      }
    },
    {
      "cell_type": "markdown",
      "metadata": {
        "id": "G4XagE0Va57Q"
      },
      "source": [
        "**AnswerQ8:** Your answer here (double click to edit)"
      ]
    },
    {
      "cell_type": "code",
      "execution_count": null,
      "metadata": {
        "id": "8f8fxymXICRJ"
      },
      "outputs": [],
      "source": [
        "# your codes here (double click to edit)\n",
        "\n",
        "# Q8A task\n",
        "\n",
        "# write to CSV file"
      ]
    }
  ]
}